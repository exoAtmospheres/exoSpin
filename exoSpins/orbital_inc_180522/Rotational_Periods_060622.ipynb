{
 "cells": [
  {
   "cell_type": "code",
   "execution_count": 2,
   "id": "df10c90f",
   "metadata": {},
   "outputs": [
    {
     "name": "stderr",
     "output_type": "stream",
     "text": [
      "Warning, cannot import Cython kernel functions, pure python functions will be used instead\n"
     ]
    }
   ],
   "source": [
    "import sys, os\n",
    "import matplotlib.pyplot as plt\n",
    "import numpy as np\n",
    "import astropy.units as u\n",
    "import astropy.constants as c\n",
    "import scipy as sp\n",
    "import pandas as pd\n",
    "import pickle\n",
    "\n",
    "import path\n",
    "path.path = path.Path\n",
    "from pyqt_fit import kde,kde_methods"
   ]
  },
  {
   "cell_type": "code",
   "execution_count": null,
   "id": "d6545062",
   "metadata": {},
   "outputs": [],
   "source": []
  },
  {
   "cell_type": "code",
   "execution_count": 12,
   "id": "dddabadc",
   "metadata": {},
   "outputs": [
    {
     "name": "stdout",
     "output_type": "stream",
     "text": [
      "V_breakup = 102.09677791738046 km / s\n",
      "AB Pic b is orbiting at 0.7150078728152774% of its break-up velocity\n"
     ]
    }
   ],
   "source": [
    "# break-up velocity: Fuerza Centrifuga vs Gravitacional\n",
    "\n",
    "vel_breakup = np.sqrt(c.G * 10*u.Mjup / (1.7* u.Rjup))\n",
    "vel_breakup = vel_breakup.to(u.km/u.s)\n",
    "\n",
    "print('V_breakup = '+ str(vel_breakup))\n",
    "print('AB Pic b is orbiting at '+str(73*(u.km/u.s)/vel_breakup)+'% of its break-up velocity')\n",
    "\n"
   ]
  },
  {
   "cell_type": "code",
   "execution_count": null,
   "id": "7a005a2f",
   "metadata": {},
   "outputs": [],
   "source": []
  },
  {
   "cell_type": "markdown",
   "id": "b969a8c3",
   "metadata": {},
   "source": [
    "# iii/ Orbital inclination / Obliquity derivation\n",
    "\n",
    "We found the publication of Zhou et al. (2019) where through the lightcurve variability they estimate the rotation period of AB Pic b to be 2.1 hr.\n",
    "\n",
    "https://iopscience.iop.org/article/10.3847/1538-3881/ab037f/pdf\n",
    "\n",
    "Since there is already a reliable estimation on the rotation period, the previouse estimations are not the key parameter we can push. We decided to go for the obliquity of the planet, given our vsini value and the P_rotation from Zhou\n",
    "\n",
    "For this we follow the procedure showed in Bryan et al. (2021), section 3.5.\n",
    "\n",
    "https://doi.org/10.3847/1538-3881/ac1bb1\n"
   ]
  },
  {
   "cell_type": "code",
   "execution_count": null,
   "id": "cc37e125",
   "metadata": {},
   "outputs": [],
   "source": [
    "    "
   ]
  },
  {
   "cell_type": "code",
   "execution_count": 13,
   "id": "4ad9bf9b",
   "metadata": {
    "scrolled": false
   },
   "outputs": [
    {
     "name": "stderr",
     "output_type": "stream",
     "text": [
      "/var/folders/8z/7v6zvrh56pv_bj45q5fh34540000gn/T/ipykernel_12023/914505431.py:20: RuntimeWarning: invalid value encountered in arcsin\n",
      "  angles = np.arcsin(sin_i.value)\n"
     ]
    },
    {
     "name": "stdout",
     "output_type": "stream",
     "text": [
      "inc_planet ~ 46.800000000000004\n",
      "Size initial sample = 2870\n",
      "Maximum velocity with P>Pb = 101.37252448138145 km / s\n",
      "Size new sample = 1477 (vsini < v < vb)\n",
      "inc_planet ~ 46.800000000000004\n"
     ]
    },
    {
     "data": {
      "image/png": "[encoded data removed]",
      "text/plain": [
       "<Figure size 432x288 with 1 Axes>"
      ]
     },
     "metadata": {
      "needs_background": "light"
     },
     "output_type": "display_data"
    }
   ],
   "source": [
    "# FIRST THE IMPORT OF THE DATA \n",
    "\n",
    "# posteriors B7 fit (Radius and vsini)\n",
    "file = '/Users/pulux/Desktop/exoAtmospheres/code_exoAtm/data/result_nestle_ABPicb_B7.pic'\n",
    "\n",
    "with open(file, 'rb') as f:\n",
    "    res  = pickle.load(f)\n",
    "    samp = res.samples\n",
    "    weig = res.weights\n",
    "    \n",
    "vsini   = samp[:,6] * u.km/u.s    \n",
    "radius  = samp[:,4] * u.Rjup\n",
    "Prot_lc = 2.12      * u.hr\n",
    "\n",
    "# computing sin(i) distribution\n",
    "v = (2*np.pi*radius/Prot_lc).si  # km/s\n",
    "sin_i = (vsini/(v)).si\n",
    "\n",
    "# converting to angles\n",
    "angles = np.arcsin(sin_i.value)\n",
    "angles = np.concatenate((angles, np.pi-angles))\n",
    "\n",
    "angles_density, angles_bins, patches = plt.hist(angles*180/np.pi,bins=200, density=True,range=(0,180))\n",
    "plt.plot(angles_bins[1:],angles_density)\n",
    "\n",
    "# geting the maximal value out\n",
    "bin_max = np.where(angles_density == angles_density.max())\n",
    "inc_planet = angles_bins[bin_max]\n",
    "print('inc_planet ~',inc_planet[0])\n",
    "\n",
    "\n",
    "\n",
    "\n",
    "#### Laetitia\n",
    "\n",
    "pb = 2*np.pi*(radius**(3/2))/np.sqrt(c.G*10*u.Mjup) # break-up period (s)\n",
    "\n",
    "print(f\"Size initial sample = {len(v)}\")\n",
    "sample = (Prot_lc > pb) # Removing solutions above the break-up velocity\n",
    "vsini = vsini[sample]\n",
    "v = (v[sample]).to(u.km/u.s)\n",
    "\n",
    "vmax = v.max()\n",
    "print(f\"Maximum velocity with P>Pb = {vmax}\")\n",
    "\n",
    "sample = (vsini < v)\n",
    "nsample = np.sum(sample)\n",
    "print(f\"Size new sample = {nsample} (vsini < v < vb)\")\n",
    "sini = vsini/v\n",
    "ip = np.arcsin(sini[sample])\n",
    "ip = np.concatenate((ip.value, np.pi-ip.value))\n",
    "nsample *= 2\n",
    "\n",
    "angles_density, angles_bins, patches = plt.hist(ip*180/np.pi,bins=200, density=True,range=(0,180))\n",
    "\n",
    "bin_max = np.where(angles_density == angles_density.max())\n",
    "inc_planet = angles_bins[bin_max]\n",
    "print('inc_planet ~',inc_planet[0])\n",
    "\n",
    "file = open(\"io.dat\", \"r\")\n",
    "io = np.loadtxt(file, skiprows=1)\n",
    "file.close()\n",
    "plt.hist(io*180/np.pi,bins=200, density=True,range=(0,180))\n",
    "\n",
    "plt.xlabel(r'$i_p$ (deg)')\n",
    "plt.show()\n",
    "\n"
   ]
  },
  {
   "cell_type": "code",
   "execution_count": null,
   "id": "56ae06c9",
   "metadata": {},
   "outputs": [],
   "source": []
  },
  {
   "cell_type": "code",
   "execution_count": 25,
   "id": "eaf025a9",
   "metadata": {
    "scrolled": false
   },
   "outputs": [
    {
     "name": "stdout",
     "output_type": "stream",
     "text": [
      "Size initial sample = 2870\n",
      "Maximum velocity with P>Pb = 101.37252448138145 km/s\n",
      "Size initial sample = 1508\n",
      "Size new sample = 1477 (vsini < v < vb)\n"
     ]
    },
    {
     "data": {
      "image/png": "[encoded data removed]",
      "text/plain": [
       "<Figure size 360x144 with 1 Axes>"
      ]
     },
     "metadata": {
      "needs_background": "light"
     },
     "output_type": "display_data"
    },
    {
     "data": {
      "image/png": "[encoded data removed]",
      "text/plain": [
       "<Figure size 360x144 with 1 Axes>"
      ]
     },
     "metadata": {
      "needs_background": "light"
     },
     "output_type": "display_data"
    },
    {
     "data": {
      "image/png": "[encoded data removed]",
      "text/plain": [
       "<Figure size 360x144 with 1 Axes>"
      ]
     },
     "metadata": {
      "needs_background": "light"
     },
     "output_type": "display_data"
    }
   ],
   "source": [
    "G = 6.67e-20 #km**3 kg**-1 s**-2\n",
    "rjup = 71492 #km\n",
    "mjup = 1.898e27 #kg\n",
    "h2s = 3600 #sec\n",
    "dr = np.pi/180\n",
    "\n",
    "file  = open(\"/Users/pulux/Desktop/exoAtmospheres/code_exoAtm/data/result_nestle_ABPicb_B7.txt\", \"r\")\n",
    "data = np.loadtxt(file, skiprows=1)\n",
    "file.close()\n",
    "\n",
    "radius = data[:,4]*rjup #km\n",
    "vsini = data[:,6] #km/s\n",
    "\n",
    "p = 2.12*h2s #s\n",
    "v = 2*np.pi*radius/p # km/s\n",
    "\n",
    "# break-up period (s)\n",
    "mp = 10*mjup #kg\n",
    "pb = 2*np.pi*(radius**(3/2))/np.sqrt(G*mp) \n",
    "\n",
    "# Removing solutions above the break-up velocity\n",
    "print(f\"Size initial sample = {len(v)}\")\n",
    "sample = (p > pb) \n",
    "vsini = vsini[sample]\n",
    "v = v[sample]\n",
    "\n",
    "vmax = v.max()\n",
    "print(f\"Maximum velocity with P>Pb = {vmax} km/s\")\n",
    "\n",
    "######\n",
    "# Here equation 10 of Bryan et al. 2021\n",
    "\n",
    "lv = kde.KDE1D(v)\n",
    "lu = kde.KDE1D(vsini)\n",
    "\n",
    "nv = 200\n",
    "vrange = np.linspace(0, vmax, nv)\n",
    "i = np.linspace(0, np.pi, 200)\n",
    "\n",
    "pcosi = np.zeros_like(i) # PDF of cos(ip)\n",
    "for j, ci in enumerate(np.cos(i)):\n",
    "    int_dv = lv(vrange)*lu(vrange*np.sqrt(1-ci*ci))\n",
    "    pcosi[j] = np.trapz(int_dv, vrange)\n",
    "\n",
    "# PDF of ip\n",
    "pi = pcosi*np.sin(i) \n",
    "\n",
    "int_pi = np.trapz(pi, i) # normalization factor\n",
    "pi /= int_pi\n",
    "\n",
    "sample = (vsini < v)\n",
    "nsample = np.sum(sample)\n",
    "print(f\"Size initial sample = {len(v)}\")\n",
    "print(f\"Size new sample = {nsample} (vsini < v < vb)\")\n",
    "sini = vsini/v\n",
    "ip = np.arcsin(sini[sample])\n",
    "ip = np.concatenate((ip, np.pi-ip))\n",
    "nsample *= 2\n",
    "\n",
    "#################################\n",
    "##################################\n",
    "###################################\n",
    "\n",
    "lo = kde.KDE1D(io, lower=0., upper=np.pi, method=kde_methods.cyclic) # PDF of io\n",
    "pdf_ip = kde.KDE1D(ip, lower=0., upper=2*np.pi, method=kde_methods.cyclic) # PDF of io\n",
    "\n",
    "### Here I compute proba(l) = proba(|io-ip|) = int pi(ip)*(pio(ip+l)+pio(ip-l))/2 (combination of probability functions)\n",
    "l = np.linspace(0, np.pi, 200)\n",
    "pl = np.zeros_like(l)\n",
    "i = np.linspace(0, np.pi, 200)\n",
    "\n",
    "def pio(x): # PDF of io, being sure it is defined everywhere (not only [0, pi])\n",
    "    if np.isscalar(x):\n",
    "        if (x > 0) and (x < np.pi):\n",
    "            return(lo(x))\n",
    "        else:\n",
    "            return(0)\n",
    "    else:\n",
    "        res = np.zeros_like(x)\n",
    "        for k, xx in enumerate(x):\n",
    "            if (xx > 0) and (xx < np.pi):\n",
    "                res[k] = lo(xx)\n",
    "            else:\n",
    "                res[k] = 0\n",
    "        return(res)\n",
    "\n",
    "for j, la in enumerate(l):\n",
    "    int_dl = pi*(pio(i-la)+pio(i+la))/2\n",
    "    pl[j] = np.trapz(int_dl, i)\n",
    "\n",
    "int_pl = np.trapz(pl, l)\n",
    "pl /= int_pl\n",
    "\n",
    "################################################\n",
    "################################################\n",
    "plt.figure(figsize=(5,2))\n",
    "#a_ip, ab_ip, pat_ip = plt.hist(ip*180/np.pi,bins=100, density=True,range=(0,180), label=r'$i_p$', color='c',histtype='step')\n",
    "\n",
    "file = open(\"io.dat\", \"r\")\n",
    "io = np.loadtxt(file, skiprows=1)\n",
    "file.close()\n",
    "#a_io, ab_io, pat_io = plt.hist(io*180/np.pi,bins=100, density=True,range=(0,180), label=r'$i_o$', color='m',histtype='step')\n",
    "\n",
    "plt.plot(l*180/np.pi,pio(l)*0.05, label=r'$i_o$', color='m')\n",
    "plt.plot(l*180/np.pi,pdf_ip(l)*0.08, label=r'$i_p$', color='c')\n",
    "\n",
    "plt.legend(frameon=False,fontsize=12, loc=2)\n",
    "plt.ylabel('PDF',fontsize=12)\n",
    "plt.xlabel(r'Degrees',fontsize=12)\n",
    "plt.tick_params(direction='in')\n",
    "plt.xlim(0,180)\n",
    "plt.ylim(-0.01,0.13)\n",
    "plt.tight_layout()\n",
    "plt.savefig('inc_op.pdf')\n",
    "plt.show()\n",
    "\n",
    "######################## ########################\n",
    "################################################\n",
    "\n",
    "\n",
    "######################## ########################\n",
    "################################################\n",
    "\n",
    "\n",
    "\n",
    "\n",
    "def phi_op_dist(inc_pl, inc_orbit, Omega_pl, Omega_orb):\n",
    "    arg_1 = np.cos(inc_pl)*np.cos(inc_orbit) \n",
    "    arg_2 = np.sin(inc_pl)*np.sin(inc_orbit)\n",
    "    \n",
    "    dist_1 = arg_2*np.cos(Omega_orb-Omega_pl)\n",
    "    \n",
    "    phi_op = np.arccos(arg_1 + dist_1)\n",
    "    return phi_op\n",
    "\n",
    "\n",
    "conv = np.pi/180\n",
    "\n",
    "l = np.linspace(0, np.pi, 200)\n",
    "inc_orbit = 90*conv #pio(l) # ±12\n",
    "Omega_orb = -5 #± 13 ± 180\n",
    "Omega_pl_dist = np.random.uniform(low=0.0, high=180, size=100000)\n",
    "phi_op = phi_op_dist(inc_planet[0]*conv, inc_orbit, Omega_pl_dist*conv, Omega_orb*conv)\n",
    "\n",
    "\n",
    "\n",
    "# plot projected obliquity\n",
    "plt.figure(figsize=(5,2))\n",
    "\n",
    "\n",
    "####\n",
    "plt.plot(l/dr, pl*dr*4, label=r\"$|i_{\\rm p} - i_{\\rm o}|$\", color='c')\n",
    "#plt.plot(l/dr,pio(l/dr)*0.1, label=\"inc orit\")\n",
    "\n",
    "#plt.hist(phi_op/conv, bins=100, density=True,range=(0,180), label=r'$\\Psi_{op}$', color='m',histtype='step')\n",
    "ohi_op_den = kde.KDE1D(phi_op, lower=0., upper=np.pi, method=kde_methods.cyclic) # PDF of io\n",
    "plt.plot(l/dr,ohi_op_den(l)*0.1, color='m', label=r'$\\Psi_{op}$')\n",
    "\n",
    "\n",
    "\n",
    "plt.xlim(xmin=0)\n",
    "plt.ylim(ymin=0)\n",
    "\n",
    "plt.ylabel(\"PDF\",fontsize=12)\n",
    "plt.xlabel(r'Degrees',fontsize=12)\n",
    "plt.tick_params(direction='in')\n",
    "plt.xlim(0,180)\n",
    "plt.ylim(-0.01,0.12)\n",
    "plt.legend(frameon=False,fontsize=12,loc=9)\n",
    "plt.tight_layout()\n",
    "plt.savefig('obl_op.pdf')\n",
    "plt.show()"
   ]
  },
  {
   "cell_type": "code",
   "execution_count": 59,
   "id": "736a6e05",
   "metadata": {},
   "outputs": [
    {
     "data": {
      "text/plain": [
       "[<matplotlib.lines.Line2D at 0x7fad54d0e610>]"
      ]
     },
     "execution_count": 59,
     "metadata": {},
     "output_type": "execute_result"
    },
    {
     "data": {
      "image/png": "[encoded data removed]",
      "text/plain": [
       "<Figure size 432x288 with 1 Axes>"
      ]
     },
     "metadata": {
      "needs_background": "light"
     },
     "output_type": "display_data"
    }
   ],
   "source": [
    "plt.plot(l*180/np.pi,pio(l))"
   ]
  },
  {
   "cell_type": "code",
   "execution_count": 100,
   "id": "90b5d80e",
   "metadata": {},
   "outputs": [
    {
     "data": {
      "text/plain": [
       "[<matplotlib.lines.Line2D at 0x7fad6c6995e0>]"
      ]
     },
     "execution_count": 100,
     "metadata": {},
     "output_type": "execute_result"
    },
    {
     "data": {
      "image/png": "[encoded data removed]",
      "text/plain": [
       "<Figure size 432x288 with 1 Axes>"
      ]
     },
     "metadata": {
      "needs_background": "light"
     },
     "output_type": "display_data"
    }
   ],
   "source": [
    "plt.plot(inc_orbit)\n"
   ]
  },
  {
   "cell_type": "code",
   "execution_count": 105,
   "id": "8d8c9341",
   "metadata": {},
   "outputs": [
    {
     "data": {
      "text/plain": [
       "array([0.62770839, 0.60174873, 0.36964594, ..., 2.31499374, 2.14848374,\n",
       "       2.35790925])"
      ]
     },
     "execution_count": 105,
     "metadata": {},
     "output_type": "execute_result"
    }
   ],
   "source": [
    "ip"
   ]
  },
  {
   "cell_type": "code",
   "execution_count": 17,
   "id": "a126fc6a",
   "metadata": {},
   "outputs": [
    {
     "data": {
      "image/png": "[encoded data removed]",
      "text/plain": [
       "<Figure size 360x144 with 1 Axes>"
      ]
     },
     "metadata": {
      "needs_background": "light"
     },
     "output_type": "display_data"
    }
   ],
   "source": [
    "def phi_op_dist(inc_pl, inc_orbit, Omega_pl, Omega_orb):\n",
    "    arg_1 = np.cos(inc_pl)*np.cos(inc_orbit) \n",
    "    arg_2 = np.sin(inc_pl)*np.sin(inc_orbit)\n",
    "    \n",
    "    dist_1 = arg_2*np.cos(Omega_orb-Omega_pl)\n",
    "    \n",
    "    phi_op = np.arccos(arg_1 + dist_1)\n",
    "    return phi_op\n",
    "\n",
    "\n",
    "conv = np.pi/180\n",
    "\n",
    "l = np.linspace(0, np.pi, 200)\n",
    "inc_orbit = 90*conv #pio(l) # ±12\n",
    "Omega_orb = -5 #± 13 ± 180\n",
    "Omega_pl_dist = np.random.uniform(low=0.0, high=180, size=100000)\n",
    "phi_op = phi_op_dist(inc_planet[0]*conv, inc_orbit, Omega_pl_dist*conv, Omega_orb*conv)\n",
    "\n",
    "\n",
    "\n",
    "# plot projected obliquity\n",
    "plt.figure(figsize=(5,2))\n",
    "\n",
    "\n",
    "####\n",
    "plt.plot(l/dr, pl*dr*4, label=r\"$|i_{\\rm p} - i_{\\rm o}|$\", color='c')\n",
    "#plt.plot(l/dr,pio(l/dr)*0.1, label=\"inc orit\")\n",
    "\n",
    "#plt.hist(phi_op/conv, bins=100, density=True,range=(0,180), label=r'$\\Psi_{op}$', color='m',histtype='step')\n",
    "ohi_op_den = kde.KDE1D(phi_op, lower=0., upper=np.pi, method=kde_methods.cyclic) # PDF of io\n",
    "plt.plot(l/dr,ohi_op_den(l)*0.1, color='m', label=r'$\\Psi_{op}$')\n",
    "\n",
    "\n",
    "\n",
    "plt.xlim(xmin=0)\n",
    "plt.ylim(ymin=0)\n",
    "\n",
    "plt.ylabel(\"PDF\",fontsize=12)\n",
    "plt.xlabel(r'Degrees',fontsize=12)\n",
    "plt.xlim(0,180)\n",
    "plt.legend(frameon=False,fontsize=12,loc=9)\n",
    "plt.tight_layout()\n",
    "plt.savefig('obl_op.pdf')\n",
    "plt.show()"
   ]
  },
  {
   "cell_type": "code",
   "execution_count": 123,
   "id": "8067426f",
   "metadata": {},
   "outputs": [
    {
     "data": {
      "text/plain": [
       "(array([0.00037614, 0.00037614, 0.00037614, 0.00037614, 0.00018807,\n",
       "        0.00056421, 0.00037614, 0.00018807, 0.00094034, 0.00094034,\n",
       "        0.00018807, 0.00094034, 0.00112841, 0.00018807, 0.00112841,\n",
       "        0.00094034, 0.00188069, 0.00075228, 0.00188069, 0.00413752,\n",
       "        0.00282103, 0.00413752, 0.00376138, 0.00620627, 0.01485744,\n",
       "        0.02426089, 0.03159558, 0.0308433 , 0.03027909, 0.02463703,\n",
       "        0.02049951, 0.01335289, 0.01015572, 0.00902731, 0.00677048,\n",
       "        0.00658241, 0.005454  , 0.00263296, 0.00263296, 0.00206876,\n",
       "        0.00094034, 0.00131648, 0.00112841, 0.00131648, 0.00056421,\n",
       "        0.00094034, 0.00094034, 0.        , 0.00018807, 0.        ,\n",
       "        0.        , 0.00018807, 0.        , 0.00094034, 0.00094034,\n",
       "        0.00056421, 0.00131648, 0.00112841, 0.00131648, 0.00094034,\n",
       "        0.00206876, 0.00263296, 0.00263296, 0.005454  , 0.00658241,\n",
       "        0.00677048, 0.00902731, 0.01015572, 0.01335289, 0.02049951,\n",
       "        0.02463703, 0.03027909, 0.0308433 , 0.03159558, 0.02426089,\n",
       "        0.01485744, 0.00620627, 0.00376138, 0.00413752, 0.00282103,\n",
       "        0.00413752, 0.00188069, 0.00075228, 0.00188069, 0.00094034,\n",
       "        0.00112841, 0.00018807, 0.00112841, 0.00094034, 0.00018807,\n",
       "        0.00094034, 0.00094034, 0.00018807, 0.00037614, 0.00056421,\n",
       "        0.00018807, 0.00037614, 0.00037614, 0.00037614, 0.00037614]),\n",
       " 0.8168140899333463,\n",
       " 46.800000000000004)"
      ]
     },
     "execution_count": 123,
     "metadata": {},
     "output_type": "execute_result"
    }
   ],
   "source": [
    "a_ip,inc_planet[0]*conv,inc_planet[0]"
   ]
  },
  {
   "cell_type": "code",
   "execution_count": 19,
   "id": "c6731407",
   "metadata": {},
   "outputs": [
    {
     "data": {
      "text/plain": [
       "(0.0, 180.0)"
      ]
     },
     "execution_count": 19,
     "metadata": {},
     "output_type": "execute_result"
    },
    {
     "data": {
      "image/png": "[encoded data removed]",
      "text/plain": [
       "<Figure size 432x288 with 1 Axes>"
      ]
     },
     "metadata": {
      "needs_background": "light"
     },
     "output_type": "display_data"
    }
   ],
   "source": [
    "plt.plot(l/dr+90, pl*dr, label=\"prior cos\")\n",
    "plt.plot(90-l/dr, pl*dr, label=\"prior cos\")\n",
    "plt.xlim(0,180)"
   ]
  },
  {
   "cell_type": "code",
   "execution_count": 10,
   "id": "b1b2f076",
   "metadata": {
    "scrolled": false
   },
   "outputs": [
    {
     "data": {
      "image/png": "[encoded data removed]",
      "text/plain": [
       "<Figure size 432x288 with 1 Axes>"
      ]
     },
     "metadata": {
      "needs_background": "light"
     },
     "output_type": "display_data"
    },
    {
     "ename": "AttributeError",
     "evalue": "'numpy.float64' object has no attribute 'value'",
     "output_type": "error",
     "traceback": [
      "\u001b[0;31m---------------------------------------------------------------------------\u001b[0m",
      "\u001b[0;31mAttributeError\u001b[0m                            Traceback (most recent call last)",
      "Input \u001b[0;32mIn [10]\u001b[0m, in \u001b[0;36m<cell line: 30>\u001b[0;34m()\u001b[0m\n\u001b[1;32m     27\u001b[0m lu \u001b[38;5;241m=\u001b[39m kde\u001b[38;5;241m.\u001b[39mKDE1D(vsini)\n\u001b[1;32m     29\u001b[0m nv \u001b[38;5;241m=\u001b[39m \u001b[38;5;241m1000\u001b[39m\n\u001b[0;32m---> 30\u001b[0m vrange \u001b[38;5;241m=\u001b[39m np\u001b[38;5;241m.\u001b[39mlinspace(\u001b[38;5;241m0\u001b[39m, \u001b[43mvmax\u001b[49m\u001b[38;5;241;43m.\u001b[39;49m\u001b[43mvalue\u001b[49m, nv)\n\u001b[1;32m     31\u001b[0m i \u001b[38;5;241m=\u001b[39m np\u001b[38;5;241m.\u001b[39mlinspace(\u001b[38;5;241m0\u001b[39m, np\u001b[38;5;241m.\u001b[39mpi, \u001b[38;5;241m100\u001b[39m)\n\u001b[1;32m     33\u001b[0m pcosi \u001b[38;5;241m=\u001b[39m np\u001b[38;5;241m.\u001b[39mzeros_like(i) \u001b[38;5;66;03m# PDF of cos(ip)\u001b[39;00m\n",
      "\u001b[0;31mAttributeError\u001b[0m: 'numpy.float64' object has no attribute 'value'"
     ]
    }
   ],
   "source": [
    "\n",
    "file = open(\"io.dat\", \"r\")\n",
    "io = np.loadtxt(file, skiprows=1)\n",
    "file.close()\n",
    "\n",
    "if len(io) > nsample:\n",
    "    io = np.random.choice(io, nsample)\n",
    "else:\n",
    "    nsample = len(io)\n",
    "    ip = np.random.choice(ip, nsample)\n",
    "lambda_no_prior = abs(io-ip) # lambda =  projected obliquity |io-ip|\n",
    "\n",
    "dr = np.pi/180\n",
    "plt.hist(lambda_no_prior/dr, bins=\"auto\", density=True)\n",
    "\n",
    "\n",
    "plt.xlim(xmin=0)\n",
    "plt.ylim(ymin=0)\n",
    "\n",
    "plt.xlabel(r\"Projected Obliquity $|i_{\\rm p} - i_{\\rm o}|$ (deg)\")\n",
    "plt.ylabel(\"PDF\")\n",
    "\n",
    "plt.tight_layout()\n",
    "plt.show()\n",
    "\n",
    "\n",
    "lv = kde.KDE1D(v)\n",
    "lu = kde.KDE1D(vsini)\n",
    "\n",
    "nv = 1000\n",
    "vrange = np.linspace(0, vmax.value, nv)\n",
    "i = np.linspace(0, np.pi, 100)\n",
    "\n",
    "pcosi = np.zeros_like(i) # PDF of cos(ip)\n",
    "for j, ci in enumerate(np.cos(i)):\n",
    "    int_dv = lv(vrange)*lu(vrange*np.sqrt(1-ci*ci))\n",
    "    pcosi[j] = np.trapz(int_dv, vrange)\n",
    "\n",
    "pi = pcosi*np.sin(i) # PDF of ip\n",
    "\n",
    "int_pi = np.trapz(pi, i) # normalization factor\n",
    "pi /= int_pi\n",
    "\n",
    "sample = (vsini < v)\n",
    "nsample = np.sum(sample)\n",
    "print(f\"Size initial sample = {len(v)}\")\n",
    "print(f\"Size new sample = {nsample} (vsini < v < vb)\")\n",
    "sini = vsini/v\n",
    "ip = np.arcsin(sini[sample])\n",
    "ip = np.concatenate((ip, np.pi-ip))\n",
    "nsample *= 2\n",
    "\n",
    "file = open(\"io.dat\", \"r\")\n",
    "io = np.loadtxt(file, skiprows=1)\n",
    "file.close()\n",
    "\n",
    "lo = kde.KDE1D(io, lower=0., upper=np.pi, method=kde_methods.cyclic) # PDF of io\n",
    "\n",
    "### Here I compute proba(l) = proba(|io-ip|) = int pi(ip)*(pio(ip+l)+pio(ip-l))/2 (combination of probability functions)\n",
    "l = np.linspace(0, np.pi, 100)\n",
    "pl = np.zeros_like(l)\n",
    "i = np.linspace(0, np.pi, 100)\n",
    "\n",
    "def pio(x): # PDF of io, being sure it is defined everywhere (not only [0, pi])\n",
    "    if np.isscalar(x):\n",
    "        if (x > 0) and (x < np.pi):\n",
    "            return(lo(x))\n",
    "        else:\n",
    "            return(0)\n",
    "    else:\n",
    "        res = np.zeros_like(x)\n",
    "        for k, xx in enumerate(x):\n",
    "            if (xx > 0) and (xx < np.pi):\n",
    "                res[k] = lo(xx)\n",
    "            else:\n",
    "                res[k] = 0\n",
    "        return(res)\n",
    "\n",
    "for j, la in enumerate(l):\n",
    "    int_dl = pi*(pio(i-la)+pio(i+la))/2\n",
    "    pl[j] = np.trapz(int_dl, i)\n",
    "\n",
    "int_pl = np.trapz(pl, l)\n",
    "pl /= int_pl\n",
    "\n",
    "# plot projected obliquity\n",
    "plt.plot(l/dr, pl*dr, label=\"prior cos\")\n",
    "\n",
    "plt.xlim(xmin=0)\n",
    "plt.ylim(ymin=0)\n",
    "\n",
    "plt.xlabel(r\"Projected Obliquity $|i_{\\rm p} - i_{\\rm o}|$ (deg)\")\n",
    "plt.ylabel(\"PDF\")\n",
    "\n",
    "plt.tight_layout()\n",
    "plt.show()"
   ]
  },
  {
   "cell_type": "code",
   "execution_count": 20,
   "id": "b79201a2",
   "metadata": {},
   "outputs": [
    {
     "ename": "NameError",
     "evalue": "name 'mjup' is not defined",
     "output_type": "error",
     "traceback": [
      "\u001b[0;31m---------------------------------------------------------------------------\u001b[0m",
      "\u001b[0;31mNameError\u001b[0m                                 Traceback (most recent call last)",
      "Input \u001b[0;32mIn [20]\u001b[0m, in \u001b[0;36m<cell line: 4>\u001b[0;34m()\u001b[0m\n\u001b[1;32m      1\u001b[0m p \u001b[38;5;241m=\u001b[39m (\u001b[38;5;241m2.12\u001b[39m\u001b[38;5;241m*\u001b[39mu\u001b[38;5;241m.\u001b[39mhr)\u001b[38;5;241m.\u001b[39mto(u\u001b[38;5;241m.\u001b[39ms) \u001b[38;5;66;03m#*h2s #s\u001b[39;00m\n\u001b[1;32m      2\u001b[0m v \u001b[38;5;241m=\u001b[39m \u001b[38;5;241m2\u001b[39m\u001b[38;5;241m*\u001b[39mnp\u001b[38;5;241m.\u001b[39mpi\u001b[38;5;241m*\u001b[39mradius\u001b[38;5;241m/\u001b[39mp \u001b[38;5;66;03m# km/s\u001b[39;00m\n\u001b[0;32m----> 4\u001b[0m mp \u001b[38;5;241m=\u001b[39m \u001b[38;5;241m10\u001b[39m\u001b[38;5;241m*\u001b[39m\u001b[43mmjup\u001b[49m \u001b[38;5;66;03m#kg\u001b[39;00m\n\u001b[1;32m      5\u001b[0m pb \u001b[38;5;241m=\u001b[39m \u001b[38;5;241m2\u001b[39m\u001b[38;5;241m*\u001b[39mnp\u001b[38;5;241m.\u001b[39mpi\u001b[38;5;241m*\u001b[39m(radius\u001b[38;5;241m*\u001b[39m\u001b[38;5;241m*\u001b[39m(\u001b[38;5;241m3\u001b[39m\u001b[38;5;241m/\u001b[39m\u001b[38;5;241m2\u001b[39m))\u001b[38;5;241m/\u001b[39mnp\u001b[38;5;241m.\u001b[39msqrt(G\u001b[38;5;241m*\u001b[39mmp) \u001b[38;5;66;03m# break-up period (s)\u001b[39;00m\n\u001b[1;32m      7\u001b[0m \u001b[38;5;28mprint\u001b[39m(\u001b[38;5;124mf\u001b[39m\u001b[38;5;124m\"\u001b[39m\u001b[38;5;124mSize initial sample = \u001b[39m\u001b[38;5;132;01m{\u001b[39;00m\u001b[38;5;28mlen\u001b[39m(v)\u001b[38;5;132;01m}\u001b[39;00m\u001b[38;5;124m\"\u001b[39m)\n",
      "\u001b[0;31mNameError\u001b[0m: name 'mjup' is not defined"
     ]
    }
   ],
   "source": [
    "p = (2.12*u.hr).to(u.s) #*h2s #s\n",
    "v = 2*np.pi*radius/p # km/s\n",
    "\n",
    "mp = 10*mjup #kg\n",
    "pb = 2*np.pi*(radius**(3/2))/np.sqrt(G*mp) # break-up period (s)\n",
    "\n",
    "print(f\"Size initial sample = {len(v)}\")\n",
    "sample = (p > pb) # Removing solutions above the break-up velocity\n",
    "vsini = vsini[sample]\n",
    "v = v[sample]\n",
    "\n",
    "vmax = v.max()\n",
    "print(f\"Maximum velocity with P>Pb = {vmax} km/s\")\n",
    "\n",
    "lv = kde.KDE1D(v)\n",
    "lu = kde.KDE1D(vsini)\n",
    "\n",
    "nv = 1000\n",
    "vrange = np.linspace(0, vmax, nv)\n",
    "i = np.linspace(0, np.pi, 100)\n",
    "\n",
    "pcosi = np.zeros_like(i) # PDF of cos(ip)\n",
    "for j, ci in enumerate(np.cos(i)):\n",
    "    int_dv = lv(vrange)*lu(vrange*np.sqrt(1-ci*ci))\n",
    "    pcosi[j] = np.trapz(int_dv, vrange)\n",
    "\n",
    "pi = pcosi*np.sin(i) # PDF of ip\n",
    "\n",
    "int_pi = np.trapz(pi, i) # normalization factor\n",
    "pi /= int_pi\n",
    "\n",
    "sample = (vsini < v)\n",
    "nsample = np.sum(sample)\n",
    "print(f\"Size initial sample = {len(v)}\")\n",
    "print(f\"Size new sample = {nsample} (vsini < v < vb)\")\n",
    "sini = vsini/v\n",
    "ip = np.arcsin(sini[sample])\n",
    "ip = np.concatenate((ip, np.pi-ip))\n",
    "nsample *= 2\n",
    "\n",
    "file = open(\"io.dat\", \"r\")\n",
    "io = np.loadtxt(file, skiprows=1)\n",
    "file.close()\n",
    "\n",
    "lo = kde.KDE1D(io, lower=0., upper=np.pi, method=kde_methods.cyclic) # PDF of io\n",
    "\n",
    "### Here I compute proba(l) = proba(|io-ip|) = int pi(ip)*(pio(ip+l)+pio(ip-l))/2 (combination of probability functions)\n",
    "l = np.linspace(0, np.pi, 100)\n",
    "pl = np.zeros_like(l)\n",
    "i = np.linspace(0, np.pi, 100)\n",
    "\n",
    "def pio(x): # PDF of io, being sure it is defined everywhere (not only [0, pi])\n",
    "    if np.isscalar(x):\n",
    "        if (x > 0) and (x < np.pi):\n",
    "            return(lo(x))\n",
    "        else:\n",
    "            return(0)\n",
    "    else:\n",
    "        res = np.zeros_like(x)\n",
    "        for k, xx in enumerate(x):\n",
    "            if (xx > 0) and (xx < np.pi):\n",
    "                res[k] = lo(xx)\n",
    "            else:\n",
    "                res[k] = 0\n",
    "        return(res)\n",
    "\n",
    "for j, la in enumerate(l):\n",
    "    int_dl = pi*(pio(i-la)+pio(i+la))/2\n",
    "    pl[j] = np.trapz(int_dl, i)\n",
    "\n",
    "int_pl = np.trapz(pl, l)\n",
    "pl /= int_pl\n",
    "\n",
    "# plot projected obliquity\n",
    "plt.plot(l/dr, pl*dr, label=\"prior cos\")\n",
    "\n",
    "plt.xlim(xmin=0)\n",
    "plt.ylim(ymin=0)\n",
    "\n",
    "plt.xlabel(r\"Projected Obliquity $|i_{\\rm p} - i_{\\rm o}|$ (deg)\")\n",
    "plt.ylabel(\"PDF\")\n",
    "\n",
    "plt.tight_layout()\n",
    "plt.show()"
   ]
  },
  {
   "cell_type": "code",
   "execution_count": null,
   "id": "d426b285",
   "metadata": {},
   "outputs": [],
   "source": []
  },
  {
   "cell_type": "markdown",
   "id": "1ff18f0c",
   "metadata": {},
   "source": [
    "# RV estimation\n",
    "\n",
    " radial velocity semi-amplitude \n",
    " \n",
    " K = (vr,max − vr,min )/2:"
   ]
  },
  {
   "cell_type": "code",
   "execution_count": 18,
   "id": "fda3a7e1",
   "metadata": {},
   "outputs": [
    {
     "name": "stdout",
     "output_type": "stream",
     "text": [
      "130.3014323810956 m / s 58.2725720739444 m / s\n",
      "132.93841149275391 m / s 59.451864983727404 m / s\n"
     ]
    }
   ],
   "source": [
    "\n",
    "ecc  = 0.1\n",
    "inc  = np.pi/2\n",
    "m2   = 6 # u.Mjup\n",
    "m1   = 0.86\n",
    "\n",
    "dist = 2 # au\n",
    "\n",
    "K = (28.4329 * u.m / u.s) / (np.sqrt(1-ecc**2)) * (m2*u.Mjup * np.sin(inc))/u.Mjup * ((m1*u.Msun + m2*u.Mjup)/u.Msun)**(-1/2) * (dist)**(-1/2)\n",
    "K = K.to(u.m/u.s)\n",
    "\n",
    "\n",
    "dist2 = 10 # au\n",
    "\n",
    "K2 = (28.4329 * u.m / u.s) / (np.sqrt(1-ecc**2)) * (m2*u.Mjup * np.sin(inc))/u.Mjup * ((m1*u.Msun + m2*u.Mjup)/u.Msun)**(-1/2) * (dist2)**(-1/2)\n",
    "K2 = K2.to(u.m/u.s)\n",
    "\n",
    "print(K ,K2)\n",
    "\n",
    "\n",
    "############ 1 sigma inc\n",
    "ecc  = 0.3\n",
    "inc  = 78/180*np.pi\n",
    "\n",
    "m2   = 6 # u.Mjup\n",
    "m1   = 0.86\n",
    "\n",
    "dist = 2 # au\n",
    "\n",
    "K = (28.4329 * u.m / u.s) / (np.sqrt(1-ecc**2)) * (m2*u.Mjup * np.sin(inc))/u.Mjup * ((m1*u.Msun + m2*u.Mjup)/u.Msun)**(-1/2) * (dist)**(-1/2)\n",
    "K = K.to(u.m/u.s)\n",
    "\n",
    "\n",
    "dist2 = 10 # au\n",
    "\n",
    "K2 = (28.4329 * u.m / u.s) / (np.sqrt(1-ecc**2)) * (m2*u.Mjup * np.sin(inc))/u.Mjup * ((m1*u.Msun + m2*u.Mjup)/u.Msun)**(-1/2) * (dist2)**(-1/2)\n",
    "K2 = K2.to(u.m/u.s)\n",
    "\n",
    "print(K ,K2)"
   ]
  },
  {
   "cell_type": "code",
   "execution_count": null,
   "id": "53477606",
   "metadata": {},
   "outputs": [],
   "source": []
  }
 ],
 "metadata": {
  "kernelspec": {
   "display_name": "Python 3 (ipykernel)",
   "language": "python",
   "name": "python3"
  },
  "language_info": {
   "codemirror_mode": {
    "name": "ipython",
    "version": 3
   },
   "file_extension": ".py",
   "mimetype": "text/x-python",
   "name": "python",
   "nbconvert_exporter": "python",
   "pygments_lexer": "ipython3",
   "version": "3.7.13"
  }
 },
 "nbformat": 4,
 "nbformat_minor": 5
}
