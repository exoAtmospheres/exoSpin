{
 "cells": [
  {
   "cell_type": "code",
   "execution_count": 11,
   "metadata": {},
   "outputs": [],
   "source": [
    "import sys, os\n",
    "import matplotlib.pyplot as plt\n",
    "import numpy as np\n",
    "import astropy.units as u\n",
    "import astropy.constants as c\n",
    "import scipy as sp\n",
    "import pandas as pd\n",
    "import pickle\n",
    "\n",
    "import path\n",
    "path.path = path.Path\n",
    "#from statsmodels.distributions.empirical_distribution import ECDF\n",
    "from pyqt_fit import kde\n",
    "#,pyqt_fit.kde_methods"
   ]
  },
  {
   "cell_type": "code",
   "execution_count": null,
   "metadata": {},
   "outputs": [],
   "source": []
  },
  {
   "cell_type": "markdown",
   "metadata": {},
   "source": [
    "# i/ Rotational Period"
   ]
  },
  {
   "cell_type": "code",
   "execution_count": 2,
   "metadata": {},
   "outputs": [],
   "source": [
    "def Rotation_Period(Radius, vsini, Radius_err_l, vsini_err_l, Radius_err_h=None, vsini_err_h=None):\n",
    "    \"\"\"\n",
    "    Function to estimate the rotational period with errors \n",
    "    \n",
    "    Parameters:\n",
    "    Radius (R_jup)\n",
    "    vsini  (km /s)\n",
    "    Radius_err_l\n",
    "    vsini_err_l\n",
    "    \n",
    "    Returns:\n",
    "    - P       (float) : Period in hours\n",
    "    - P_err_h (float) : Period upper limit in hours\n",
    "    - P_err_l (float) : Period lower limit in hours\n",
    "    \"\"\"\n",
    "    P = 2 * np.pi * Radius * u.Rjup / (vsini * u.km / u.s)\n",
    "    P_err_l = P * np.sqrt((Radius_err_l / Radius)**2 + (vsini_err_l / vsini)**2)\n",
    "    \n",
    "    if Radius_err_h == None or vsini_err_h == None:\n",
    "        P_err_h = P_err_l\n",
    "    else:\n",
    "        P_err_h = P * np.sqrt((Radius_err_h / Radius)**2 + (vsini_err_h / vsini)**2)\n",
    "        \n",
    "    return P.to(u.hr), P_err_h.to(u.hr), P_err_l.to(u.hr) "
   ]
  },
  {
   "cell_type": "code",
   "execution_count": null,
   "metadata": {},
   "outputs": [],
   "source": []
  },
  {
   "cell_type": "code",
   "execution_count": 3,
   "metadata": {},
   "outputs": [
    {
     "name": "stdout",
     "output_type": "stream",
     "text": [
      "P_rot = 2.9057675904395017 h + 1.435811587794206 h - 1.0882433513349463 h\n"
     ]
    }
   ],
   "source": [
    "# AB Pic b Rotational period from B7 best fit\n",
    "\n",
    "Period, P_h, P_l = Rotation_Period(1.7, 73, Radius_err_l=-0.1, vsini_err_l=-27, Radius_err_h=0.8, vsini_err_h=11)\n",
    "print('P_rot = '+str(Period)+' + '+str(P_h)+' - '+str(P_l))\n"
   ]
  },
  {
   "cell_type": "code",
   "execution_count": null,
   "metadata": {},
   "outputs": [],
   "source": []
  },
  {
   "cell_type": "markdown",
   "metadata": {},
   "source": [
    "# ii/ Break-up rotational velocity"
   ]
  },
  {
   "cell_type": "code",
   "execution_count": 4,
   "metadata": {},
   "outputs": [
    {
     "name": "stdout",
     "output_type": "stream",
     "text": [
      "V_breakup = 102.09677791738046 km / s\n",
      "AB Pic b is orbiting at 0.7150078728152774% of its break-up velocity\n"
     ]
    }
   ],
   "source": [
    "# break-up velocity: Fuerza Centrifuga vs Gravitacional\n",
    "\n",
    "vel_breakup = np.sqrt(c.G * 10*u.Mjup / (1.7* u.Rjup))\n",
    "vel_breakup = vel_breakup.to(u.km/u.s)\n",
    "\n",
    "print('V_breakup = '+ str(vel_breakup))\n",
    "print('AB Pic b is orbiting at '+str(73*(u.km/u.s)/vel_breakup)+'% of its break-up velocity')\n"
   ]
  },
  {
   "cell_type": "code",
   "execution_count": null,
   "metadata": {},
   "outputs": [],
   "source": []
  },
  {
   "cell_type": "markdown",
   "metadata": {},
   "source": [
    "# iii/ Orbital inclination / Obliquity derivation\n",
    "\n",
    "We found the publication of Zhou et al. (2019) where through the lightcurve variability they estimate the rotation period of AB Pic b to be 2.1 hr.\n",
    "\n",
    "https://iopscience.iop.org/article/10.3847/1538-3881/ab037f/pdf\n",
    "\n",
    "Since there is already a reliable estimation on the rotation period, the previouse estimations are not the key parameter we can push. We decided to go for the obliquity of the planet, given our vsini value and the P_rotation from Zhou\n",
    "\n",
    "For this we follow the procedure showed in Bryan et al. (2021), section 3.5.\n",
    "\n",
    "https://doi.org/10.3847/1538-3881/ac1bb1\n",
    "\n",
    "##### I try to do this in 2 ways. \n"
   ]
  },
  {
   "cell_type": "markdown",
   "metadata": {},
   "source": [
    "### a/ From the equation for rotation period but with known period...\n",
    "\n",
    "You can observe that the previouse part gives a flat distribution which doesn't make sense, therefore we tried this second approach."
   ]
  },
  {
   "cell_type": "code",
   "execution_count": 14,
   "metadata": {},
   "outputs": [],
   "source": [
    "# FIRST THE IMPORT OF THE DATA \n",
    "\n",
    "# posteriors B7 fit (Radius and vsini)\n",
    "file = '/Users/pulux/Desktop/exoAtmospheres/code_exoAtm/data/result_nestle_ABPicb_B7.pic'\n",
    "\n",
    "with open(file, 'rb') as f:\n",
    "    res  = pickle.load(f)\n",
    "    samp = res.samples\n",
    "    weig = res.weights\n",
    "    \n",
    "vsini  = samp[:,6] *u.km/u.s    \n",
    "Radius = samp[:,4] *u.Rjup\n",
    "Prot_lc = 2.12 * u.hr"
   ]
  },
  {
   "cell_type": "code",
   "execution_count": 15,
   "metadata": {},
   "outputs": [
    {
     "data": {
      "image/png": "[encoded data removed]",
      "text/plain": [
       "<Figure size 432x288 with 1 Axes>"
      ]
     },
     "metadata": {
      "needs_background": "light"
     },
     "output_type": "display_data"
    },
    {
     "name": "stderr",
     "output_type": "stream",
     "text": [
      "/var/folders/8z/7v6zvrh56pv_bj45q5fh34540000gn/T/ipykernel_85543/4163927435.py:10: RuntimeWarning: invalid value encountered in arcsin\n",
      "  angles = np.arcsin(sin_i.value)*180/np.pi\n"
     ]
    },
    {
     "data": {
      "image/png": "[encoded data removed]",
      "text/plain": [
       "<Figure size 432x288 with 1 Axes>"
      ]
     },
     "metadata": {
      "needs_background": "light"
     },
     "output_type": "display_data"
    },
    {
     "name": "stdout",
     "output_type": "stream",
     "text": [
      "inc_planet ~ 46.800000000000004\n"
     ]
    }
   ],
   "source": [
    "# computing sin(i) distribution\n",
    "\n",
    "sin_i = (vsini/(2*np.pi*Radius/Prot_lc)).si\n",
    "\n",
    "plt.hist(sin_i,bins=200, density=True, range=(0,1))\n",
    "plt.xlabel('sin(i) distribution restricted to values between 0 and 1')\n",
    "plt.show()\n",
    "\n",
    "# converting to angles\n",
    "angles = np.arcsin(sin_i.value)*180/np.pi\n",
    "\n",
    "angles_density, angles_bins, patches = plt.hist(angles,bins=200, density=True,range=(0,180))\n",
    "plt.plot(angles_bins[1:],angles_density)\n",
    "plt.xlabel('obliquity of the planet distribution')\n",
    "plt.show()\n",
    "\n",
    "# geting the maximal value out\n",
    "bin_max = np.where(angles_density == angles_density.max())\n",
    "inc_planet = angles_bins[bin_max]\n",
    "print('inc_planet ~',inc_planet[0])"
   ]
  },
  {
   "cell_type": "code",
   "execution_count": null,
   "metadata": {},
   "outputs": [],
   "source": []
  },
  {
   "cell_type": "markdown",
   "metadata": {},
   "source": [
    "\n",
    "### b/ The way they follow in the publication\n",
    "\n",
    "But here I have seriouse doubts on my implementation... it doesn't make sense. I'm multiplying a uniform distribution by a numer (which comes from the integral in velocity)..."
   ]
  },
  {
   "cell_type": "code",
   "execution_count": 16,
   "metadata": {},
   "outputs": [
    {
     "data": {
      "image/png": "[encoded data removed]",
      "text/plain": [
       "<Figure size 432x288 with 1 Axes>"
      ]
     },
     "metadata": {
      "needs_background": "light"
     },
     "output_type": "display_data"
    },
    {
     "data": {
      "image/png": "[encoded data removed]",
      "text/plain": [
       "<Figure size 432x288 with 1 Axes>"
      ]
     },
     "metadata": {
      "needs_background": "light"
     },
     "output_type": "display_data"
    }
   ],
   "source": [
    "\n",
    "# velocity density distribution -> Lv\n",
    "Lv = 2 * np.pi * Radius / (Prot_lc)\n",
    "Lv = Lv.to(u.km / u.s)\n",
    "Lv_density, Lv_bins, patches = plt.hist(Lv.value, bins=50, density=True, range=(0,400))\n",
    "plt.plot(Lv_bins[1:],Lv_density)\n",
    "plt.xlabel('km/s')\n",
    "plt.show()\n",
    "\n",
    "# Proyected velocity density distribution -> Lu\n",
    "Lu=vsini\n",
    "Lu_density, Lu_bins, patches = plt.hist(vsini, bins=50, density=True, range=(0,400))\n",
    "plt.plot(Lu_bins[1:],Lu_density)\n",
    "plt.xlabel('km/s')\n",
    "plt.show()"
   ]
  },
  {
   "cell_type": "code",
   "execution_count": 17,
   "metadata": {},
   "outputs": [],
   "source": [
    "names = ['Teff', 'logg', '[M/H]', 'C/O', 'Rjup', 'RV', 'vsini', 'limbdark']\n",
    "df = pd.DataFrame(res.samples, columns=names)\n",
    "df['weights'] = res.weights\n",
    "df.to_csv('/Users/pulux/Desktop/exoAtmospheres/code_exoAtm/data/result_nestle_ABPicb_B7.txt', index=None, sep=' ')"
   ]
  },
  {
   "cell_type": "code",
   "execution_count": 18,
   "metadata": {
    "scrolled": false
   },
   "outputs": [
    {
     "data": {
      "text/plain": [
       "array([[ 1.97159464e+03,  3.96873528e+00,  4.54866966e-01, ...,\n",
       "         7.54736000e+01,  5.26822986e+01,  8.46501392e-02],\n",
       "       [ 1.99260302e+03,  3.89248533e+00,  5.93404005e-01, ...,\n",
       "        -6.26192236e+00,  8.97749647e+01,  4.38554487e-01],\n",
       "       [ 1.81183484e+03,  4.82027779e+00,  4.06159973e-01, ...,\n",
       "         4.76053388e+01,  6.59120033e+01,  3.44119227e-01],\n",
       "       ...,\n",
       "       [ 1.79892660e+03,  4.01899065e+00,  2.03154130e-01, ...,\n",
       "         3.76477150e+01,  7.18371161e+01,  4.31344166e-01],\n",
       "       [ 1.79902026e+03,  3.99267204e+00,  1.90599311e-01, ...,\n",
       "         2.80577128e+01,  8.18021674e+01,  9.09568337e-01],\n",
       "       [ 1.80169438e+03,  3.97963491e+00,  2.39407856e-01, ...,\n",
       "         2.69214899e+01,  6.85698348e+01,  2.21844291e-01]])"
      ]
     },
     "execution_count": 18,
     "metadata": {},
     "output_type": "execute_result"
    }
   ],
   "source": [
    "res.samples"
   ]
  },
  {
   "cell_type": "code",
   "execution_count": 19,
   "metadata": {},
   "outputs": [],
   "source": [
    "# Orbital Spin inclination.\n",
    "\n",
    "def spin_inc(Lv, Lu, v_breakup, bins=50):\n",
    "    ''' The function to estimate the distribution of cos(i), where i in the planet inclination\n",
    "    \n",
    "    Params\n",
    "    Lv     : Prob dist for v = 2πR/Prot.   -> ForMoSa + Zhou\n",
    "    Lu     : Prob distribution for vsin(i) -> I have it from ForMoSA\n",
    "            u (projected vel) : v sin(i) = v sq(1-cos2(i))\n",
    "    P_cosi : Uniform between 0 and 1\n",
    "    Pv     : Uniform between 0 and break-up vel\n",
    "    \n",
    "    '''\n",
    "    \n",
    "    P_cosi                               = np.random.uniform(low=0.0, high=1.0, size=500)\n",
    "    P_cosi_density, P_cosi_bins, patches = plt.hist(P_cosi, bins=100, density=True, range=(0,1))\n",
    "    plt.xlabel('Uniform 0 - 1')\n",
    "    plt.show()\n",
    "    \n",
    "    Pv                                   = np.random.uniform(low=0.0, high=v_breakup, size=1000)\n",
    "    Pv_density, Pv_bins, patches         = plt.hist(Pv, bins=bins, density=True, range=(0,400))\n",
    "    plt.xlabel('Break-up velocity distribution (km/s)')\n",
    "    plt.show()\n",
    "    \n",
    "    # argument of the integral\n",
    "    int_dv = Lv * Lu * Pv_density\n",
    "    # now integrating\n",
    "    range_x = np.linspace(0,400,bins)\n",
    "    integral = np.trapz(int_dv, range_x)\n",
    "    print('Integral value is: ',integral)\n",
    "    \n",
    "    # Final value\n",
    "    prob = P_cosi_density * integral\n",
    "    \n",
    "    return P_cosi_bins[1:], prob"
   ]
  },
  {
   "cell_type": "code",
   "execution_count": 20,
   "metadata": {
    "scrolled": true
   },
   "outputs": [
    {
     "data": {
      "image/png": "[encoded data removed]",
      "text/plain": [
       "<Figure size 432x288 with 1 Axes>"
      ]
     },
     "metadata": {
      "needs_background": "light"
     },
     "output_type": "display_data"
    },
    {
     "data": {
      "image/png": "[encoded data removed]",
      "text/plain": [
       "<Figure size 432x288 with 1 Axes>"
      ]
     },
     "metadata": {
      "needs_background": "light"
     },
     "output_type": "display_data"
    },
    {
     "name": "stdout",
     "output_type": "stream",
     "text": [
      "Integral value is:  2.3718800233180087e-05\n"
     ]
    },
    {
     "data": {
      "image/png": "[encoded data removed]",
      "text/plain": [
       "<Figure size 432x288 with 1 Axes>"
      ]
     },
     "metadata": {
      "needs_background": "light"
     },
     "output_type": "display_data"
    }
   ],
   "source": [
    "x_bins, prob = spin_inc(Lv_density, Lu_density, vel_breakup.value)\n",
    "\n",
    "\n",
    "plt.plot(x_bins,prob)\n",
    "plt.xlabel('cos(i) Distribution')\n",
    "plt.show()"
   ]
  },
  {
   "cell_type": "code",
   "execution_count": null,
   "metadata": {},
   "outputs": [],
   "source": []
  },
  {
   "cell_type": "code",
   "execution_count": null,
   "metadata": {},
   "outputs": [],
   "source": []
  },
  {
   "cell_type": "markdown",
   "metadata": {},
   "source": [
    "### c/ For HD 106906b, to test consistency with the publication"
   ]
  },
  {
   "cell_type": "code",
   "execution_count": 17,
   "metadata": {},
   "outputs": [
    {
     "name": "stdout",
     "output_type": "stream",
     "text": [
      "sin(i) is ~ 0.20950113459304368\n",
      "Obliquity of the planet distribution is ~ 12.09311906795345\n",
      "In the paper they report a value of ip = 14° ± 4° or 166° ± 4°\n"
     ]
    }
   ],
   "source": [
    "HD_vsini = 9.5 *u.km/u.s# ± 0.2 km s−1\n",
    "HD_R     = 1.49 * u.Rjup #+0.37 R .\n",
    "HD_Prot  = 4.1 * u.h # ± 0.3 h\n",
    "sin_i    = (HD_vsini/(2*np.pi*HD_R/HD_Prot)).si\n",
    "print('sin(i) is ~',sin_i)\n",
    "\n",
    "# converting to angles\n",
    "HD_inc   =  np.arcsin(sin_i.value)*180/np.pi\n",
    "print('Obliquity of the planet distribution is ~', HD_inc)\n",
    "\n",
    "\n",
    "\n",
    "# in the paper they report a value of ip = 14° ± 4° or 166° ± 4°... more or less consistent...\n",
    "print('In the paper they report a value of ip = 14° ± 4° or 166° ± 4°')"
   ]
  },
  {
   "cell_type": "code",
   "execution_count": null,
   "metadata": {},
   "outputs": [],
   "source": []
  },
  {
   "cell_type": "markdown",
   "metadata": {},
   "source": [
    "# iv/ Questions \n",
    "\n",
    "Obliquity of a planet can change with dynamical interactions?\n",
    "\n",
    "Does it make sense our derivation of ~48 deg for AB Pic b given a ~ 90 deg inc of the orbital plane.\n",
    "\n",
    "\n"
   ]
  },
  {
   "cell_type": "code",
   "execution_count": null,
   "metadata": {},
   "outputs": [],
   "source": []
  },
  {
   "cell_type": "markdown",
   "metadata": {},
   "source": [
    "# v/ True obliquity limits (From Bryan et al.)"
   ]
  },
  {
   "cell_type": "code",
   "execution_count": 47,
   "metadata": {},
   "outputs": [
    {
     "name": "stdout",
     "output_type": "stream",
     "text": [
      "phi_op =  136.56832220219638\n"
     ]
    }
   ],
   "source": [
    "# Here I was testing the constraints...\n",
    "\n",
    "def phi_op(inc_pl, inc_orbit, Omega_pl, Omega_orb):\n",
    "    arg_1 = np.cos(inc_pl)*np.cos(inc_orbit) \n",
    "    arg_2 = np.sin(inc_pl)*np.sin(inc_orbit)*np.cos(Omega_orb-Omega_pl)\n",
    "    phi_op = np.arccos(arg_1 + arg_2)\n",
    "    \n",
    "    return phi_op\n",
    "\n",
    "# inputs\n",
    "inc_orbit = 90 # ±12\n",
    "# Omega are position angles\n",
    "Omega_orb = -5 #± 13 ± 180\n",
    "Omega_pl = 180 # THIS IS UNKNOWN. Companion spin axis oriented to the sky-plane\n",
    "\n",
    "conv = np.pi/180\n",
    "# the function\n",
    "phi_op = phi_op(inc_planet[0]*conv, inc_orbit*conv, Omega_pl*conv, Omega_orb*conv)\n",
    "print('phi_op = ',phi_op*180/np.pi)\n",
    "\n"
   ]
  },
  {
   "cell_type": "code",
   "execution_count": 38,
   "metadata": {},
   "outputs": [
    {
     "name": "stdout",
     "output_type": "stream",
     "text": [
      "phi_op_lim >  43.199999999999996\n"
     ]
    },
    {
     "data": {
      "image/png": "[encoded data removed]",
      "text/plain": [
       "<Figure size 432x288 with 1 Axes>"
      ]
     },
     "metadata": {
      "needs_background": "light"
     },
     "output_type": "display_data"
    }
   ],
   "source": [
    "# inputs\n",
    "inc_orbit = 90 # ±12\n",
    "Omega_orb = -5 #± 13 ± 180\n",
    "\n",
    "conv = np.pi/180\n",
    "\n",
    "# limit\n",
    "phi_op_lim = np.abs(inc_planet[0]-inc_orbit)\n",
    "print('phi_op_lim > ',phi_op_lim)\n",
    "\n",
    "# with a distribution\n",
    "\n",
    "def phi_op_dist(inc_pl, inc_orbit, Omega_pl, Omega_orb):\n",
    "    arg_1 = np.cos(inc_pl)*np.cos(inc_orbit) \n",
    "    arg_2 = np.sin(inc_pl)*np.sin(inc_orbit)\n",
    "    \n",
    "    dist_1 = arg_2*np.cos(Omega_orb-Omega_pl)\n",
    "    \n",
    "    phi_op = np.arccos(arg_1 + dist_1)\n",
    "    return phi_op\n",
    "\n",
    "\n",
    "Omega_pl_dist = np.random.uniform(low=0.0, high=180, size=10000)\n",
    "phi_op = phi_op_dist(inc_planet[0]*conv, inc_orbit*conv, Omega_pl_dist*conv, Omega_orb*conv)\n",
    "\n",
    "plt.hist(phi_op/conv, bins=100)\n",
    "plt.show()"
   ]
  },
  {
   "cell_type": "code",
   "execution_count": null,
   "metadata": {},
   "outputs": [],
   "source": []
  },
  {
   "cell_type": "markdown",
   "metadata": {},
   "source": [
    "# vi/ Obliquity Complex\n",
    "\n",
    "#### Laetitia's help"
   ]
  },
  {
   "cell_type": "code",
   "execution_count": null,
   "metadata": {},
   "outputs": [],
   "source": []
  },
  {
   "cell_type": "code",
   "execution_count": 23,
   "metadata": {},
   "outputs": [
    {
     "name": "stdout",
     "output_type": "stream",
     "text": [
      "Size initial sample = 2870\n",
      "Maximum velocity with P>Pb = 101.37252448138145 km / s\n",
      "Size new sample = 1477 (vsini < v < vb)\n"
     ]
    },
    {
     "data": {
      "image/png": "[encoded data removed]",
      "text/plain": [
       "<Figure size 432x288 with 1 Axes>"
      ]
     },
     "metadata": {
      "needs_background": "light"
     },
     "output_type": "display_data"
    }
   ],
   "source": [
    "file  = open(\"/Users/pulux/Desktop/exoAtmospheres/code_exoAtm/data/result_nestle_ABPicb_B7.txt\", \"r\")\n",
    "data = np.loadtxt(file, skiprows=1)\n",
    "file.close()\n",
    "\n",
    "radius = data[:,4]*u.Rjup #km\n",
    "vsini = data[:,6] * (u.km / u.s)#km/s\n",
    "\n",
    "p = (2.12*u.hr).to(u.s) #h2s #s\n",
    "v = (2*np.pi*radius/p).si# km/s\n",
    "\n",
    "mp = 10*u.Mjup #kg\n",
    "pb = 2*np.pi*(radius**(3/2))/np.sqrt(c.G*mp) # break-up period (s)\n",
    "\n",
    "print(f\"Size initial sample = {len(v)}\")\n",
    "sample = (p > pb) # Removing solutions above the break-up velocity\n",
    "vsini = vsini[sample]\n",
    "v = (v[sample]).to(u.km/u.s)\n",
    "\n",
    "vmax = v.max()\n",
    "print(f\"Maximum velocity with P>Pb = {vmax}\")\n",
    "\n",
    "sample = (vsini < v)\n",
    "nsample = np.sum(sample)\n",
    "print(f\"Size new sample = {nsample} (vsini < v < vb)\")\n",
    "sini = vsini/v\n",
    "ip = np.arcsin(sini[sample])\n",
    "ip = np.concatenate((ip.value, np.pi-ip.value))\n",
    "nsample *= 2\n",
    "\n",
    "file = open(\"io.dat\", \"r\")\n",
    "io = np.loadtxt(file, skiprows=1)\n",
    "file.close()\n",
    "\n",
    "if len(io) > nsample:\n",
    "    io = np.random.choice(io, nsample)\n",
    "else:\n",
    "    nsample = len(io)\n",
    "    ip = np.random.choice(ip, nsample)\n",
    "lambda_no_prior = abs(io-ip) # lambda =  projected obliquity |io-ip|\n",
    "\n",
    "dr = np.pi/180\n",
    "plt.hist(lambda_no_prior/dr, bins=\"auto\", density=True)\n",
    "\n",
    "\n",
    "plt.xlim(xmin=0)\n",
    "plt.ylim(ymin=0)\n",
    "\n",
    "plt.xlabel(r\"Projected Obliquity $|i_{\\rm p} - i_{\\rm o}|$ (deg)\")\n",
    "plt.ylabel(\"PDF\")\n",
    "\n",
    "plt.tight_layout()\n",
    "plt.show()\n",
    "\n"
   ]
  },
  {
   "cell_type": "code",
   "execution_count": 24,
   "metadata": {},
   "outputs": [
    {
     "name": "stdout",
     "output_type": "stream",
     "text": [
      "Size initial sample = 2870\n",
      "Maximum velocity with P>Pb = 101.37252448138145 km/s\n",
      "Size initial sample = 1508\n",
      "Size new sample = 1477 (vsini < v < vb)\n"
     ]
    },
    {
     "data": {
      "image/png": "[encoded data removed]",
      "text/plain": [
       "<Figure size 432x288 with 1 Axes>"
      ]
     },
     "metadata": {
      "needs_background": "light"
     },
     "output_type": "display_data"
    }
   ],
   "source": [
    "import numpy as np\n",
    "import matplotlib.pyplot as plt\n",
    "from pyqt_fit import kde,kde_methods\n",
    "import pickle\n",
    "\n",
    "G = 6.67e-20 #km**3 kg**-1 s**-2\n",
    "rjup = 71492 #km\n",
    "mjup = 1.898e27 #kg\n",
    "h2s = 3600 #sec\n",
    "dr = np.pi/180\n",
    "\n",
    "# filename = 'result_nestle_ABPicb_B7.pic'\n",
    "#\n",
    "# with open(filename, 'rb') as f:\n",
    "#     res  = pickle.load(f)\n",
    "#     samp = res.samples\n",
    "#     weig = res.weights\n",
    "# radius = samp[:,4]*rjup #km\n",
    "# vsini = samp[:,6] #km/s\n",
    "\n",
    "file  = open(\"/Users/pulux/Desktop/exoAtmospheres/code_exoAtm/data/result_nestle_ABPicb_B7.txt\", \"r\")\n",
    "data = np.loadtxt(file, skiprows=1)\n",
    "file.close()\n",
    "\n",
    "radius = data[:,4]*rjup #km\n",
    "vsini = data[:,6] #km/s\n",
    "\n",
    "p = 2.12*h2s #s\n",
    "v = 2*np.pi*radius/p # km/s\n",
    "\n",
    "mp = 10*mjup #kg\n",
    "pb = 2*np.pi*(radius**(3/2))/np.sqrt(G*mp) # break-up period (s)\n",
    "\n",
    "print(f\"Size initial sample = {len(v)}\")\n",
    "sample = (p > pb) # Removing solutions above the break-up velocity\n",
    "vsini = vsini[sample]\n",
    "v = v[sample]\n",
    "\n",
    "vmax = v.max()\n",
    "print(f\"Maximum velocity with P>Pb = {vmax} km/s\")\n",
    "\n",
    "lv = kde.KDE1D(v)\n",
    "lu = kde.KDE1D(vsini)\n",
    "\n",
    "nv = 1000\n",
    "vrange = np.linspace(0, vmax, nv)\n",
    "i = np.linspace(0, np.pi, 100)\n",
    "\n",
    "pcosi = np.zeros_like(i) # PDF of cos(ip)\n",
    "for j, ci in enumerate(np.cos(i)):\n",
    "    int_dv = lv(vrange)*lu(vrange*np.sqrt(1-ci*ci))\n",
    "    pcosi[j] = np.trapz(int_dv, vrange)\n",
    "\n",
    "pi = pcosi*np.sin(i) # PDF of ip\n",
    "\n",
    "int_pi = np.trapz(pi, i) # normalization factor\n",
    "pi /= int_pi\n",
    "\n",
    "sample = (vsini < v)\n",
    "nsample = np.sum(sample)\n",
    "print(f\"Size initial sample = {len(v)}\")\n",
    "print(f\"Size new sample = {nsample} (vsini < v < vb)\")\n",
    "sini = vsini/v\n",
    "ip = np.arcsin(sini[sample])\n",
    "ip = np.concatenate((ip, np.pi-ip))\n",
    "nsample *= 2\n",
    "\n",
    "file = open(\"io.dat\", \"r\")\n",
    "io = np.loadtxt(file, skiprows=1)\n",
    "file.close()\n",
    "\n",
    "lo = kde.KDE1D(io, lower=0., upper=np.pi, method=kde_methods.cyclic) # PDF of io\n",
    "\n",
    "### Here I compute proba(l) = proba(|io-ip|) = int pi(ip)*(pio(ip+l)+pio(ip-l))/2 (combination of probability functions)\n",
    "l = np.linspace(0, np.pi, 100)\n",
    "pl = np.zeros_like(l)\n",
    "i = np.linspace(0, np.pi, 100)\n",
    "\n",
    "def pio(x): # PDF of io, being sure it is defined everywhere (not only [0, pi])\n",
    "    if np.isscalar(x):\n",
    "        if (x > 0) and (x < np.pi):\n",
    "            return(lo(x))\n",
    "        else:\n",
    "            return(0)\n",
    "    else:\n",
    "        res = np.zeros_like(x)\n",
    "        for k, xx in enumerate(x):\n",
    "            if (xx > 0) and (xx < np.pi):\n",
    "                res[k] = lo(xx)\n",
    "            else:\n",
    "                res[k] = 0\n",
    "        return(res)\n",
    "\n",
    "for j, la in enumerate(l):\n",
    "    int_dl = pi*(pio(i-la)+pio(i+la))/2\n",
    "    pl[j] = np.trapz(int_dl, i)\n",
    "\n",
    "int_pl = np.trapz(pl, l)\n",
    "pl /= int_pl\n",
    "\n",
    "# plot projected obliquity\n",
    "plt.plot(l/dr, pl*dr, label=\"prior cos\")\n",
    "\n",
    "plt.xlim(xmin=0)\n",
    "plt.ylim(ymin=0)\n",
    "\n",
    "plt.xlabel(r\"Projected Obliquity $|i_{\\rm p} - i_{\\rm o}|$ (deg)\")\n",
    "plt.ylabel(\"PDF\")\n",
    "\n",
    "plt.tight_layout()\n",
    "plt.show()"
   ]
  },
  {
   "cell_type": "code",
   "execution_count": 2,
   "metadata": {},
   "outputs": [
    {
     "data": {
      "text/plain": [
       "45.95"
      ]
     },
     "execution_count": 2,
     "metadata": {},
     "output_type": "execute_result"
    }
   ],
   "source": [
    "3.3 + 6.15 + 1.36+ 6.61 + 5.73 +22.8\n"
   ]
  },
  {
   "cell_type": "code",
   "execution_count": 44,
   "metadata": {},
   "outputs": [
    {
     "data": {
      "image/png": "[encoded data removed]",
      "text/plain": [
       "<Figure size 432x288 with 1 Axes>"
      ]
     },
     "metadata": {
      "needs_background": "light"
     },
     "output_type": "display_data"
    }
   ],
   "source": [
    "Omega_pl_dist = np.random.uniform(low=0.0, high=180, size=len(pl))\n",
    "phi_op = phi_op_dist(pl, inc_orbit*conv, Omega_pl_dist*conv, Omega_orb*conv)\n",
    "\n",
    "plt.hist(phi_op/conv, bins=100)\n",
    "plt.show()"
   ]
  },
  {
   "cell_type": "code",
   "execution_count": 30,
   "metadata": {},
   "outputs": [
    {
     "data": {
      "text/plain": [
       "0.017453292519943295"
      ]
     },
     "execution_count": 30,
     "metadata": {},
     "output_type": "execute_result"
    }
   ],
   "source": [
    "dr"
   ]
  },
  {
   "cell_type": "code",
   "execution_count": 37,
   "metadata": {},
   "outputs": [
    {
     "data": {
      "text/plain": [
       "(1.5707963267948966,\n",
       " array([4.98417511e-01, 5.00763317e-01, 5.07833392e-01, 5.19725806e-01,\n",
       "        5.36601177e-01, 5.58674758e-01, 5.86215834e-01, 6.19567770e-01,\n",
       "        6.59173370e-01, 7.05563138e-01, 7.59271662e-01, 8.20686365e-01,\n",
       "        8.89864466e-01, 9.66338592e-01, 1.04889090e+00, 1.13526811e+00,\n",
       "        1.22187537e+00, 1.30359959e+00, 1.37396081e+00, 1.42571559e+00,\n",
       "        1.45187680e+00, 1.44696193e+00, 1.40820471e+00, 1.33643222e+00,\n",
       "        1.23630282e+00, 1.11568954e+00, 9.84251082e-01, 8.51597606e-01,\n",
       "        7.25677664e-01, 6.11877706e-01, 5.12931527e-01, 4.29387950e-01,\n",
       "        3.60294839e-01, 3.03870446e-01, 2.58057998e-01, 2.20907390e-01,\n",
       "        1.90753403e-01, 1.66223218e-01, 1.46173167e-01, 1.29651353e-01,\n",
       "        1.15905941e-01, 1.04387995e-01, 9.47018765e-02, 8.65184650e-02,\n",
       "        7.95115075e-02, 7.33580772e-02, 6.77856152e-02, 6.26123146e-02,\n",
       "        5.77459993e-02, 5.31508396e-02, 4.88131384e-02, 4.47241352e-02,\n",
       "        4.08760028e-02, 3.72616255e-02, 3.38746382e-02, 3.07089165e-02,\n",
       "        2.77562871e-02, 2.50041225e-02, 2.24367179e-02, 2.00393697e-02,\n",
       "        1.77989522e-02, 1.56999201e-02, 1.37237999e-02, 1.18580928e-02,\n",
       "        1.01070579e-02, 8.49093323e-03, 7.03234664e-03, 5.74294879e-03,\n",
       "        4.62075994e-03, 3.65530991e-03, 2.83266660e-03, 2.13931227e-03,\n",
       "        1.56724952e-03, 1.11611595e-03, 7.85793405e-04, 5.63720136e-04,\n",
       "        4.21063543e-04, 3.24791749e-04, 2.52704440e-04, 1.96008712e-04,\n",
       "        1.52313536e-04, 1.19088026e-04, 9.31444556e-05, 7.28009362e-05,\n",
       "        5.68975205e-05, 4.39994586e-05, 3.31853026e-05, 2.44206675e-05,\n",
       "        1.81378845e-05, 1.36808549e-05, 9.83409166e-06, 6.41823324e-06,\n",
       "        3.93964567e-06, 2.54031927e-06, 1.68306071e-06, 9.22686654e-07,\n",
       "        3.67936437e-07, 9.35892021e-08, 3.87550479e-23, 0.00000000e+00]))"
      ]
     },
     "execution_count": 37,
     "metadata": {},
     "output_type": "execute_result"
    }
   ],
   "source": [
    "inc_orbit*conv, pl"
   ]
  },
  {
   "cell_type": "code",
   "execution_count": null,
   "metadata": {},
   "outputs": [],
   "source": []
  }
 ],
 "metadata": {
  "kernelspec": {
   "display_name": "Python 3 (ipykernel)",
   "language": "python",
   "name": "python3"
  },
  "language_info": {
   "codemirror_mode": {
    "name": "ipython",
    "version": 3
   },
   "file_extension": ".py",
   "mimetype": "text/x-python",
   "name": "python",
   "nbconvert_exporter": "python",
   "pygments_lexer": "ipython3",
   "version": "3.8.13"
  }
 },
 "nbformat": 4,
 "nbformat_minor": 4
}
