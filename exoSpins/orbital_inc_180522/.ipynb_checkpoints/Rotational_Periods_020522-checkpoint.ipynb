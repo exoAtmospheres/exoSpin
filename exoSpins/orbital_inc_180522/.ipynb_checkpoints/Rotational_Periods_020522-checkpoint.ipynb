{
 "cells": [
  {
   "cell_type": "code",
   "execution_count": 2,
   "metadata": {},
   "outputs": [],
   "source": [
    "import matplotlib.pyplot as plt\n",
    "import numpy as np\n",
    "import astropy.units as u\n",
    "import astropy.constants as c\n",
    "import scipy as sp\n",
    "import pandas as pd\n",
    "\n",
    "import pickle"
   ]
  },
  {
   "cell_type": "code",
   "execution_count": null,
   "metadata": {},
   "outputs": [],
   "source": []
  },
  {
   "cell_type": "markdown",
   "metadata": {},
   "source": [
    "# i/ Rotational Period"
   ]
  },
  {
   "cell_type": "code",
   "execution_count": 3,
   "metadata": {},
   "outputs": [],
   "source": [
    "def Rotation_Period(Radius, vsini, Radius_err_l, vsini_err_l, Radius_err_h=None, vsini_err_h=None):\n",
    "    \"\"\"\n",
    "    Function to estimate the rotational period with errors \n",
    "    \n",
    "    Parameters:\n",
    "    Radius (R_jup)\n",
    "    vsini  (km /s)\n",
    "    Radius_err_l\n",
    "    vsini_err_l\n",
    "    \n",
    "    Returns:\n",
    "    - P       (float) : Period in hours\n",
    "    - P_err_h (float) : Period upper limit in hours\n",
    "    - P_err_l (float) : Period lower limit in hours\n",
    "    \"\"\"\n",
    "    P = 2 * np.pi * Radius * u.Rjup / (vsini * u.km / u.s)\n",
    "    P_err_l = P * np.sqrt((Radius_err_l / Radius)**2 + (vsini_err_l / vsini)**2)\n",
    "    \n",
    "    if Radius_err_h == None or vsini_err_h == None:\n",
    "        P_err_h = P_err_l\n",
    "    else:\n",
    "        P_err_h = P * np.sqrt((Radius_err_h / Radius)**2 + (vsini_err_h / vsini)**2)\n",
    "        \n",
    "    return P.to(u.hr), P_err_h.to(u.hr), P_err_l.to(u.hr) "
   ]
  },
  {
   "cell_type": "code",
   "execution_count": null,
   "metadata": {},
   "outputs": [],
   "source": []
  },
  {
   "cell_type": "code",
   "execution_count": 4,
   "metadata": {},
   "outputs": [
    {
     "name": "stdout",
     "output_type": "stream",
     "text": [
      "P_rot = 2.9057675904395017 h + 1.435811587794206 h - 1.0882433513349463 h\n"
     ]
    }
   ],
   "source": [
    "# AB Pic b Rotational period from B7 best fit\n",
    "\n",
    "Period, P_h, P_l = Rotation_Period(1.7, 73, Radius_err_l=-0.1, vsini_err_l=-27, Radius_err_h=0.8, vsini_err_h=11)\n",
    "print('P_rot = '+str(Period)+' + '+str(P_h)+' - '+str(P_l))\n"
   ]
  },
  {
   "cell_type": "code",
   "execution_count": null,
   "metadata": {},
   "outputs": [],
   "source": []
  },
  {
   "cell_type": "markdown",
   "metadata": {},
   "source": [
    "# ii/ Break-up rotational velocity"
   ]
  },
  {
   "cell_type": "code",
   "execution_count": 5,
   "metadata": {},
   "outputs": [
    {
     "name": "stdout",
     "output_type": "stream",
     "text": [
      "V_breakup = 102.09677791738046 km / s\n",
      "AB Pic b is orbiting at 0.7150078728152774% of its break-up velocity\n"
     ]
    }
   ],
   "source": [
    "# break-up velocity: Fuerza Centrifuga vs Gravitacional\n",
    "\n",
    "vel_breakup = np.sqrt(c.G * 10*u.Mjup / (1.7* u.Rjup))\n",
    "vel_breakup = vel_breakup.to(u.km/u.s)\n",
    "\n",
    "print('V_breakup = '+ str(vel_breakup))\n",
    "print('AB Pic b is orbiting at '+str(73*(u.km/u.s)/vel_breakup)+'% of its break-up velocity')\n"
   ]
  },
  {
   "cell_type": "code",
   "execution_count": null,
   "metadata": {},
   "outputs": [],
   "source": []
  },
  {
   "cell_type": "markdown",
   "metadata": {},
   "source": [
    "# iii/ Orbital inclination / Obliquity derivation\n",
    "\n",
    "We found the publication of Zhou et al. (2019) where through the lightcurve variability they estimate the rotation period of AB Pic b to be 2.1 hr.\n",
    "\n",
    "https://iopscience.iop.org/article/10.3847/1538-3881/ab037f/pdf\n",
    "\n",
    "Since there is already a reliable estimation on the rotation period, the previouse estimations are not the key parameter we can push. We decided to go for the obliquity of the planet, given our vsini value and the P_rotation from Zhou\n",
    "\n",
    "For this we follow the procedure showed in Bryan et al. (2021), section 3.5.\n",
    "\n",
    "https://doi.org/10.3847/1538-3881/ac1bb1\n",
    "\n",
    "### I try to do this in 2 ways. \n",
    "\n",
    "### a/ The way they follow in the publication\n",
    "\n",
    "But here I have seriouse doubts on my implementation... it doesn't make sense. I'm multiplying a uniform distribution by a numer (which comes from the integral in velocity)..."
   ]
  },
  {
   "cell_type": "code",
   "execution_count": 6,
   "metadata": {},
   "outputs": [
    {
     "data": {
      "image/png": "[encoded data removed]",
      "text/plain": [
       "<Figure size 432x288 with 1 Axes>"
      ]
     },
     "metadata": {
      "needs_background": "light"
     },
     "output_type": "display_data"
    },
    {
     "data": {
      "image/png": "[encoded data removed]",
      "text/plain": [
       "<Figure size 432x288 with 1 Axes>"
      ]
     },
     "metadata": {
      "needs_background": "light"
     },
     "output_type": "display_data"
    }
   ],
   "source": [
    "# FIRST THE IMPORT OF THE DATA \n",
    "# posteriors B7 fit (Radius and vsini)\n",
    "\n",
    "file = '/Users/pulux/Desktop/exoAtmospheres/code_exoAtm/data/result_nestle_ABPicb_B7.pic'\n",
    "\n",
    "with open(file, 'rb') as f:\n",
    "    res  = pickle.load(f)\n",
    "    samp = res.samples\n",
    "    weig = res.weights\n",
    "\n",
    "# velocity density distribution -> Lv\n",
    "Radius = samp[:,4] *u.Rjup\n",
    "Prot_lc = 2.12 * u.hr\n",
    "Lv = 2 * np.pi * Radius / (Prot_lc)\n",
    "Lv = Lv.to(u.km / u.s)\n",
    "Lv_density, Lv_bins, patches = plt.hist(Lv.value, bins=50, density=True, range=(0,400))\n",
    "plt.plot(Lv_bins[1:],Lv_density)\n",
    "plt.xlabel('km/s')\n",
    "plt.show()\n",
    "\n",
    "# Proyected velocity density distribution -> Lu\n",
    "vsini  = samp[:,6] *u.km/u.s\n",
    "Lu=vsini\n",
    "Lu_density, Lu_bins, patches = plt.hist(vsini, bins=50, density=True, range=(0,400))\n",
    "plt.plot(Lu_bins[1:],Lu_density)\n",
    "plt.xlabel('km/s')\n",
    "plt.show()"
   ]
  },
  {
   "cell_type": "code",
   "execution_count": 238,
   "metadata": {},
   "outputs": [],
   "source": [
    "names = ['Teff', 'logg', '[M/H]', 'C/O', 'Rjup', 'RV', 'vsini', 'limbdark']\n",
    "df = pd.DataFrame(res.samples, columns=names)\n",
    "df['weights'] = res.weights\n",
    "df.to_csv('/Users/pulux/Desktop/exoAtmospheres/code_exoAtm/data/result_nestle_ABPicb_B7.txt', index=None, sep=' ')"
   ]
  },
  {
   "cell_type": "code",
   "execution_count": 231,
   "metadata": {
    "scrolled": false
   },
   "outputs": [
    {
     "data": {
      "text/plain": [
       "array([[ 1.97159464e+03,  3.96873528e+00,  4.54866966e-01, ...,\n",
       "         7.54736000e+01,  5.26822986e+01,  8.46501392e-02],\n",
       "       [ 1.99260302e+03,  3.89248533e+00,  5.93404005e-01, ...,\n",
       "        -6.26192236e+00,  8.97749647e+01,  4.38554487e-01],\n",
       "       [ 1.81183484e+03,  4.82027779e+00,  4.06159973e-01, ...,\n",
       "         4.76053388e+01,  6.59120033e+01,  3.44119227e-01],\n",
       "       ...,\n",
       "       [ 1.79892660e+03,  4.01899065e+00,  2.03154130e-01, ...,\n",
       "         3.76477150e+01,  7.18371161e+01,  4.31344166e-01],\n",
       "       [ 1.79902026e+03,  3.99267204e+00,  1.90599311e-01, ...,\n",
       "         2.80577128e+01,  8.18021674e+01,  9.09568337e-01],\n",
       "       [ 1.80169438e+03,  3.97963491e+00,  2.39407856e-01, ...,\n",
       "         2.69214899e+01,  6.85698348e+01,  2.21844291e-01]])"
      ]
     },
     "execution_count": 231,
     "metadata": {},
     "output_type": "execute_result"
    }
   ],
   "source": [
    "res.samples"
   ]
  },
  {
   "cell_type": "code",
   "execution_count": 7,
   "metadata": {},
   "outputs": [],
   "source": [
    "# Orbital Spin inclination.\n",
    "\n",
    "def spin_inc(Lv, Lu, v_breakup, bins=50):\n",
    "    ''' The function to estimate the distribution of cos(i), where i in the planet inclination\n",
    "    \n",
    "    Params\n",
    "    Lv     : Prob dist for v = 2πR/Prot.   -> ForMoSa + Zhou\n",
    "    Lu     : Prob distribution for vsin(i) -> I have it from ForMoSA\n",
    "            u (projected vel) : v sin(i) = v sq(1-cos2(i))\n",
    "    P_cosi : Uniform between 0 and 1\n",
    "    Pv     : Uniform between 0 and break-up vel\n",
    "    \n",
    "    '''\n",
    "    \n",
    "    P_cosi                               = np.random.uniform(low=0.0, high=1.0, size=500)\n",
    "    P_cosi_density, P_cosi_bins, patches = plt.hist(P_cosi, bins=100, density=True, range=(0,1))\n",
    "    plt.xlabel('Uniform 0 - 1')\n",
    "    plt.show()\n",
    "    \n",
    "    Pv                                   = np.random.uniform(low=0.0, high=v_breakup, size=1000)\n",
    "    Pv_density, Pv_bins, patches         = plt.hist(Pv, bins=bins, density=True, range=(0,400))\n",
    "    plt.xlabel('Break-up velocity distribution (km/s)')\n",
    "    plt.show()\n",
    "    \n",
    "    # argument of the integral\n",
    "    int_dv = Lv * Lu * Pv_density\n",
    "    # now integrating\n",
    "    range_x = np.linspace(0,400,bins)\n",
    "    integral = np.trapz(int_dv, range_x)\n",
    "    print('Integral value is: ',integral)\n",
    "    \n",
    "    # Final value\n",
    "    prob = P_cosi_density * integral\n",
    "    \n",
    "    return P_cosi_bins[1:], prob"
   ]
  },
  {
   "cell_type": "code",
   "execution_count": 9,
   "metadata": {},
   "outputs": [
    {
     "data": {
      "image/png": "[encoded data removed]",
      "text/plain": [
       "<Figure size 432x288 with 1 Axes>"
      ]
     },
     "metadata": {
      "needs_background": "light"
     },
     "output_type": "display_data"
    },
    {
     "data": {
      "image/png": "[encoded data removed]",
      "text/plain": [
       "<Figure size 432x288 with 1 Axes>"
      ]
     },
     "metadata": {
      "needs_background": "light"
     },
     "output_type": "display_data"
    },
    {
     "name": "stdout",
     "output_type": "stream",
     "text": [
      "Integral value is:  2.565787107338534e-05\n"
     ]
    },
    {
     "data": {
      "image/png": "[encoded data removed]",
      "text/plain": [
       "<Figure size 432x288 with 1 Axes>"
      ]
     },
     "metadata": {
      "needs_background": "light"
     },
     "output_type": "display_data"
    }
   ],
   "source": [
    "x_bins, prob = spin_inc(Lv_density, Lu_density, vel_breakup.value)\n",
    "\n",
    "\n",
    "plt.plot(x_bins,prob)\n",
    "plt.xlabel('cos(i) Distribution')\n",
    "plt.show()"
   ]
  },
  {
   "cell_type": "code",
   "execution_count": null,
   "metadata": {},
   "outputs": [],
   "source": []
  },
  {
   "cell_type": "markdown",
   "metadata": {},
   "source": [
    "### b/ From the equation for rotation period but with known period...\n",
    "\n",
    "You can observe that the previouse part gives a flat distribution which doesn't make sense, therefore we tried this second approach."
   ]
  },
  {
   "cell_type": "code",
   "execution_count": 10,
   "metadata": {},
   "outputs": [
    {
     "data": {
      "image/png": "[encoded data removed]",
      "text/plain": [
       "<Figure size 432x288 with 1 Axes>"
      ]
     },
     "metadata": {
      "needs_background": "light"
     },
     "output_type": "display_data"
    },
    {
     "name": "stderr",
     "output_type": "stream",
     "text": [
      "<ipython-input-10-bb63c0ac443c>:9: RuntimeWarning: invalid value encountered in arcsin\n",
      "  angles = np.arcsin(sin_i.value)*180/np.pi\n"
     ]
    },
    {
     "data": {
      "image/png": "[encoded data removed]",
      "text/plain": [
       "<Figure size 432x288 with 1 Axes>"
      ]
     },
     "metadata": {
      "needs_background": "light"
     },
     "output_type": "display_data"
    },
    {
     "name": "stdout",
     "output_type": "stream",
     "text": [
      "inc_planet ~ 48.6\n"
     ]
    }
   ],
   "source": [
    "# computing sin(i) distribution\n",
    "\n",
    "sin_i = (vsini/(2*np.pi*Radius/Prot_lc)).si\n",
    "plt.hist(sin_i,bins=200, density=True, range=(0,1))\n",
    "plt.xlabel('sin(i) distribution restricted to values between 0 and 1')\n",
    "plt.show()\n",
    "\n",
    "# converting to angles\n",
    "angles = np.arcsin(sin_i.value)*180/np.pi\n",
    "\n",
    "angles_density, angles_bins, patches = plt.hist(angles,bins=200, density=True,range=(0,90))\n",
    "plt.plot(angles_bins[1:],angles_density)\n",
    "plt.xlabel('obliquity of the planet distribution')\n",
    "plt.show()\n",
    "\n",
    "# geting the maximal value out\n",
    "bin_max = np.where(angles_density == angles_density.max())\n",
    "inc_planet = angles_bins[bin_max]\n",
    "print('inc_planet ~',inc_planet[0])"
   ]
  },
  {
   "cell_type": "code",
   "execution_count": null,
   "metadata": {},
   "outputs": [],
   "source": []
  },
  {
   "cell_type": "markdown",
   "metadata": {},
   "source": [
    "### c/ For HD 106906b, to test consistency with the publication"
   ]
  },
  {
   "cell_type": "code",
   "execution_count": 11,
   "metadata": {},
   "outputs": [
    {
     "name": "stdout",
     "output_type": "stream",
     "text": [
      "sin(i) is ~ 0.20950113459304368\n",
      "obliquity of the planet distribution is ~ 12.09311906795345\n"
     ]
    }
   ],
   "source": [
    "HD_vsini = 9.5 *u.km/u.s# ± 0.2 km s−1\n",
    "HD_R     = 1.49 * u.Rjup #+0.37 R .\n",
    "HD_Prot  = 4.1 * u.h # ± 0.3 h\n",
    "sin_i    = (HD_vsini/(2*np.pi*HD_R/HD_Prot)).si\n",
    "print('sin(i) is ~',sin_i)\n",
    "\n",
    "# converting to angles\n",
    "HD_inc   =  np.arcsin(sin_i.value)*180/np.pi\n",
    "print('obliquity of the planet distribution is ~', HD_inc)\n",
    "\n",
    "# in the paper they report a value of ip = 14° ± 4° or 166° ± 4°... more or less consistent...\n"
   ]
  },
  {
   "cell_type": "code",
   "execution_count": null,
   "metadata": {},
   "outputs": [],
   "source": []
  },
  {
   "cell_type": "markdown",
   "metadata": {},
   "source": [
    "# iv/ Questions \n",
    "\n",
    "Obliquity of a planet can change with dynamical interactions?\n",
    "\n",
    "Does it make sense our derivation of ~48 deg for AB Pic b given a ~ 90 deg inc of the orbital plane.\n",
    "\n",
    "\n"
   ]
  },
  {
   "cell_type": "code",
   "execution_count": null,
   "metadata": {},
   "outputs": [],
   "source": []
  },
  {
   "cell_type": "markdown",
   "metadata": {},
   "source": [
    "# v/ True obliquity limits (From Bryan et al.)"
   ]
  },
  {
   "cell_type": "code",
   "execution_count": 224,
   "metadata": {},
   "outputs": [
    {
     "name": "stdout",
     "output_type": "stream",
     "text": [
      "phi_op =  41.64670225052509\n",
      "phi_op_lim >  41.4\n"
     ]
    }
   ],
   "source": [
    "# Here I was testing the constraints...\n",
    "\n",
    "def phi_op(inc_pl, inc_orbit, Omega_pl, Omega_orb):\n",
    "    arg_1 = np.cos(inc_pl)*np.cos(inc_orbit) \n",
    "    arg_2 = np.sin(inc_pl)*np.sin(inc_orbit)*np.cos(Omega_orb-Omega_pl)\n",
    "    phi_op = np.arccos(arg_1 + arg_2)\n",
    "    \n",
    "    return phi_op\n",
    "\n",
    "# inputs\n",
    "inc_orbit = 90 # ±12\n",
    "# Omega are position angles\n",
    "Omega_orb = -5 #± 13 ± 180\n",
    "Omega_pl = 0 # THIS IS UNKNOWN. Companion spin axis oriented to the sky-plane\n",
    "\n",
    "conv = np.pi/180\n",
    "# the function\n",
    "phi_op = phi_op(inc_planet[0]*conv, inc_orbit*conv, Omega_pl*conv, Omega_orb*conv)\n",
    "print('phi_op = ',phi_op*180/np.pi)\n",
    "\n",
    "# limit\n",
    "phi_op_lim = np.abs(inc_planet[0]-inc_orbit)\n",
    "print('phi_op_lim > ',phi_op_lim)"
   ]
  },
  {
   "cell_type": "code",
   "execution_count": null,
   "metadata": {},
   "outputs": [],
   "source": []
  },
  {
   "cell_type": "code",
   "execution_count": null,
   "metadata": {},
   "outputs": [],
   "source": []
  },
  {
   "cell_type": "markdown",
   "metadata": {},
   "source": [
    "# vi/ Lae"
   ]
  },
  {
   "cell_type": "code",
   "execution_count": 1,
   "metadata": {},
   "outputs": [
    {
     "ename": "FileNotFoundError",
     "evalue": "[Errno 2] No such file or directory: 'result_nestle_ABPicb_B7.txt'",
     "output_type": "error",
     "traceback": [
      "\u001b[0;31m---------------------------------------------------------------------------\u001b[0m",
      "\u001b[0;31mFileNotFoundError\u001b[0m                         Traceback (most recent call last)",
      "\u001b[0;32m<ipython-input-1-f06cfaa21110>\u001b[0m in \u001b[0;36m<module>\u001b[0;34m\u001b[0m\n\u001b[0;32m----> 1\u001b[0;31m \u001b[0mfile\u001b[0m  \u001b[0;34m=\u001b[0m \u001b[0mopen\u001b[0m\u001b[0;34m(\u001b[0m\u001b[0;34m\"result_nestle_ABPicb_B7.txt\"\u001b[0m\u001b[0;34m,\u001b[0m \u001b[0;34m\"r\"\u001b[0m\u001b[0;34m)\u001b[0m\u001b[0;34m\u001b[0m\u001b[0;34m\u001b[0m\u001b[0m\n\u001b[0m\u001b[1;32m      2\u001b[0m \u001b[0mdata\u001b[0m \u001b[0;34m=\u001b[0m \u001b[0mnp\u001b[0m\u001b[0;34m.\u001b[0m\u001b[0mloadtxt\u001b[0m\u001b[0;34m(\u001b[0m\u001b[0mfile\u001b[0m\u001b[0;34m,\u001b[0m \u001b[0mskiprows\u001b[0m\u001b[0;34m=\u001b[0m\u001b[0;36m1\u001b[0m\u001b[0;34m)\u001b[0m\u001b[0;34m\u001b[0m\u001b[0;34m\u001b[0m\u001b[0m\n\u001b[1;32m      3\u001b[0m \u001b[0mfile\u001b[0m\u001b[0;34m.\u001b[0m\u001b[0mclose\u001b[0m\u001b[0;34m(\u001b[0m\u001b[0;34m)\u001b[0m\u001b[0;34m\u001b[0m\u001b[0;34m\u001b[0m\u001b[0m\n\u001b[1;32m      4\u001b[0m \u001b[0;34m\u001b[0m\u001b[0m\n\u001b[1;32m      5\u001b[0m \u001b[0mradius\u001b[0m \u001b[0;34m=\u001b[0m \u001b[0mdata\u001b[0m\u001b[0;34m[\u001b[0m\u001b[0;34m:\u001b[0m\u001b[0;34m,\u001b[0m\u001b[0;36m4\u001b[0m\u001b[0;34m]\u001b[0m\u001b[0;34m*\u001b[0m\u001b[0mrjup\u001b[0m \u001b[0;31m#km\u001b[0m\u001b[0;34m\u001b[0m\u001b[0;34m\u001b[0m\u001b[0m\n",
      "\u001b[0;31mFileNotFoundError\u001b[0m: [Errno 2] No such file or directory: 'result_nestle_ABPicb_B7.txt'"
     ]
    }
   ],
   "source": [
    "file  = open(\"result_nestle_ABPicb_B7.txt\", \"r\")\n",
    "data = np.loadtxt(file, skiprows=1)\n",
    "file.close()\n",
    "\n",
    "radius = data[:,4]*rjup #km\n",
    "vsini = data[:,6] #km/s\n",
    "\n",
    "p = 2.12*h2s #s\n",
    "v = 2*np.pi*radius/p # km/s\n",
    "\n",
    "mp = 10*mjup #kg\n",
    "pb = 2*np.pi*(radius**(3/2))/np.sqrt(G*mp) # break-up period (s)\n",
    "\n",
    "print(f\"Size initial sample = {len(v)}\")\n",
    "sample = (p > pb) # Removing solutions above the break-up velocity\n",
    "vsini = vsini[sample]\n",
    "v = v[sample]\n",
    "\n",
    "vmax = v.max()\n",
    "print(f\"Maximum velocity with P>Pb = {vmax} km/s\")\n",
    "\n",
    "sample = (vsini < v)\n",
    "nsample = np.sum(sample)\n",
    "print(f\"Size new sample = {nsample} (vsini < v < vb)\")\n",
    "sini = vsini/v\n",
    "ip = np.arcsin(sini[sample])\n",
    "ip = np.concatenate((ip, np.pi-ip))\n",
    "nsample *= 2\n",
    "\n",
    "file = open(\"io.dat\", \"r\")\n",
    "io = np.loadtxt(file, skiprows=1)\n",
    "file.close()\n",
    "\n",
    "if len(io) > nsample:\n",
    "    io = np.random.choice(io, nsample)\n",
    "else:\n",
    "    nsample = len(io)\n",
    "    ip = np.random.choice(ip, nsample)\n",
    "lambda_no_prior = abs(io-ip) # lambda =  projected obliquity |io-ip|\n",
    "\n",
    "plt.hist(lambda_no_prior/dr, bins=\"auto\", density=True)\n",
    "\n",
    "plt.xlim(xmin=0)\n",
    "plt.ylim(ymin=0)\n",
    "\n",
    "plt.xlabel(r\"Projected Obliquity $|i_{\\rm p} - i_{\\rm o}|$ (deg)\")\n",
    "plt.ylabel(\"PDF\")\n",
    "\n",
    "plt.tight_layout()\n",
    "plt.show()\n",
    "\n"
   ]
  },
  {
   "cell_type": "code",
   "execution_count": null,
   "metadata": {},
   "outputs": [],
   "source": []
  }
 ],
 "metadata": {
  "kernelspec": {
   "display_name": "Python 3",
   "language": "python",
   "name": "python3"
  },
  "language_info": {
   "codemirror_mode": {
    "name": "ipython",
    "version": 3
   },
   "file_extension": ".py",
   "mimetype": "text/x-python",
   "name": "python",
   "nbconvert_exporter": "python",
   "pygments_lexer": "ipython3",
   "version": "3.8.5"
  }
 },
 "nbformat": 4,
 "nbformat_minor": 4
}
