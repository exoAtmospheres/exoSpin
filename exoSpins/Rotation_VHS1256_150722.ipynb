{
 "cells": [
  {
   "cell_type": "code",
   "execution_count": 1,
   "id": "f2f6cc53",
   "metadata": {},
   "outputs": [
    {
     "name": "stderr",
     "output_type": "stream",
     "text": [
      "Warning, cannot import Cython kernel functions, pure python functions will be used instead\n"
     ]
    }
   ],
   "source": [
    "import sys, os\n",
    "import matplotlib.pyplot as plt\n",
    "import numpy as np\n",
    "import astropy.units as u\n",
    "import astropy.constants as c\n",
    "import scipy as sp\n",
    "import pandas as pd\n",
    "import pickle\n",
    "\n",
    "import path\n",
    "path.path = path.Path\n",
    "from pyqt_fit import kde,kde_methods"
   ]
  },
  {
   "cell_type": "markdown",
   "id": "08c48427",
   "metadata": {},
   "source": [
    "### Let's analyze the obliquity of VHS1256\n",
    "\n",
    "\n",
    "break-up velocity = Fuerza Centrifuga vs Gravitacional"
   ]
  },
  {
   "cell_type": "code",
   "execution_count": 2,
   "id": "dd6049ce",
   "metadata": {},
   "outputs": [],
   "source": [
    "VHS_mass   = 19    * u.Mjup     # +/- 5\n",
    "VHS_inc_o  = 118.7              # +/- 1 deg\n",
    "VHS_rad    = 1.17   * u.Rjup\n",
    "VHR_vsini  = 13.5  *(u.km/u.s)  # +3.6 /-4.1\n",
    "VHR_period = 22.04 * u.hr       # +- 0.05"
   ]
  },
  {
   "cell_type": "code",
   "execution_count": 3,
   "id": "e69806bf",
   "metadata": {},
   "outputs": [
    {
     "name": "stdout",
     "output_type": "stream",
     "text": [
      "V_breakup = 169.63691532358976 km / s\n",
      "VHR1256 is orbiting at 8.0% of its break-up velocity\n"
     ]
    }
   ],
   "source": [
    "vel_breakup = np.sqrt(c.G * VHS_mass / (VHS_rad))\n",
    "vel_breakup = vel_breakup.to(u.km/u.s)\n",
    "\n",
    "print('V_breakup = '+ str(vel_breakup))\n",
    "\n",
    "print('VHR1256 is orbiting at {:0.1f}% of its break-up velocity'.format(100*VHR_vsini/vel_breakup))"
   ]
  },
  {
   "cell_type": "markdown",
   "id": "c1cc8058",
   "metadata": {},
   "source": [
    "### Spin inclination and true obliquity\n",
    "\n",
    "The rotation period of VHR1256 is ~ 22 hr.\n",
    "\n",
    "Since there is already a reliable estimation on the rotation period, we go for the obliquity of the planet, given the vsini value and the P_rotation.\n",
    "\n",
    "Following the procedure showed in Bryan et al. (2021), section 3.5.\n",
    "\n",
    "https://doi.org/10.3847/1538-3881/ac1bb1"
   ]
  },
  {
   "cell_type": "code",
   "execution_count": 4,
   "id": "4b0cde6e",
   "metadata": {},
   "outputs": [
    {
     "name": "stdout",
     "output_type": "stream",
     "text": [
      "VHR1256 break-up period is 0.9 h\n"
     ]
    },
    {
     "data": {
      "image/png": "[encoded data removed]",
      "text/plain": [
       "<Figure size 432x288 with 1 Axes>"
      ]
     },
     "metadata": {
      "needs_background": "light"
     },
     "output_type": "display_data"
    }
   ],
   "source": [
    "# Gaussian distributions\n",
    "sizen = 1000\n",
    "prior_radius = np.random.normal(loc=VHS_rad.value, scale=0.05, size=sizen)* u.Rjup\n",
    "prior_vsini  = np.random.normal(loc=VHR_vsini.value, scale=4, size=sizen)* u.km / u.s\n",
    "prior_v = (2*np.pi*prior_radius / VHR_period ).to(u.km/u.s) \n",
    "\n",
    "# break-up period (s)\n",
    "pb       = (2*np.pi*(VHS_rad**(3/2))      / np.sqrt(c.G* VHS_mass)).to(u.hr)\n",
    "prior_pb = (2*np.pi*(prior_radius**(3/2)) / np.sqrt(c.G* VHS_mass)).to(u.hr)\n",
    "print('VHR1256 break-up period is {:0.1f}'.format(pb))\n",
    "\n",
    "\n",
    "plt.hist(prior_vsini.value, alpha=0.5, bins=100,label='Prior vsini')\n",
    "plt.hist(prior_v.value, alpha=0.5, bins=100, label='Prior v')\n",
    "plt.legend()\n",
    "plt.xlabel('Velocity km/s')\n",
    "plt.show()\n",
    "\n"
   ]
  },
  {
   "cell_type": "code",
   "execution_count": 5,
   "id": "2510502e",
   "metadata": {},
   "outputs": [],
   "source": [
    "#pb, prior_pb, sample"
   ]
  },
  {
   "cell_type": "markdown",
   "id": "ea447775",
   "metadata": {},
   "source": [
    "Removing solutions above the break-up velocity"
   ]
  },
  {
   "cell_type": "raw",
   "id": "75f62948",
   "metadata": {},
   "source": [
    "print('Size initial sample is {:0.0f}'.format(len(prior_v)))\n",
    "sample = (VHR_period > prior_pb) \n",
    "prior_vsini = prior_vsini[sample]\n",
    "prior_v = prior_v[sample]\n",
    "print('Size final sample is {:0.0f}'.format(len(prior_v)))\n",
    "\n",
    "vmax = prior_v.max()\n",
    "print('Maximum velocity with P>Pb is {:0.1f}'.format(vmax))"
   ]
  },
  {
   "cell_type": "markdown",
   "id": "c6681f43",
   "metadata": {},
   "source": [
    "Here we implement the equation 10 of Bryan et al. 2021"
   ]
  },
  {
   "cell_type": "code",
   "execution_count": 21,
   "id": "3289c199",
   "metadata": {},
   "outputs": [],
   "source": [
    "def planet_inclination(pdf_lu, pdf_lv, pdf_Pv, pdf_Pcos, nv=100):\n",
    "    '''\n",
    "    Function that integrates the curve for p(cos(i))\n",
    "\n",
    "    Inputs:\n",
    "    pdf_lu   :\n",
    "    pdf_lv   :\n",
    "    pdf_Pv   :\n",
    "    pdf_Pcos :\n",
    "    nv       : (=100 default) number of integration steps \n",
    "\n",
    "    Outputs:\n",
    "\n",
    "    '''\n",
    "    # create array with angles distribution\n",
    "    angles = np.linspace(0, np.pi, nv)\n",
    "\n",
    "    # array with zeros to save outcomes of the integration for each angle step\n",
    "    pcosi = np.zeros_like(angles) # PDF of cos(ip)\n",
    "\n",
    "    # integrate in velocity\n",
    "    for j, ci in enumerate(np.cos(angles)):\n",
    "        int_dv = pdf_lv(vrange) * pdf_lu(vrange*np.sqrt(1-ci*ci)) * pdf_Pv(vrange)\n",
    "        pcosi[j] = np.trapz(int_dv, vrange)\n",
    "\n",
    "    # multiply by the pdf of the cos(i) outside of the integral\n",
    "    curve_pcosi = pdf_Pcos(angles)*pcosi\n",
    "    \n",
    "    return angles, pcosi, curve_pcosi"
   ]
  },
  {
   "cell_type": "code",
   "execution_count": 20,
   "id": "d51c6cdd",
   "metadata": {},
   "outputs": [
    {
     "name": "stdout",
     "output_type": "stream",
     "text": [
      "Size initial sample = 1000\n",
      "Size new sample = 44 (vsini < v < vb)\n"
     ]
    },
    {
     "data": {
      "image/png": "[encoded data removed]",
      "text/plain": [
       "<Figure size 576x216 with 1 Axes>"
      ]
     },
     "metadata": {
      "needs_background": "light"
     },
     "output_type": "display_data"
    }
   ],
   "source": [
    "# number of points\n",
    "nv     = 500\n",
    "\n",
    "##########################################################################################\n",
    "# inclination orbit\n",
    "io     = np.random.normal(loc=VHS_inc_o, scale=1, size=nv)\n",
    "pdf_io = kde.KDE1D(io, lower=0., upper=180) # PDF of io\n",
    "\n",
    "##########################################################################################\n",
    "# inclination planet\n",
    "angles = np.linspace(0, np.pi, nv)\n",
    "vrange = np.linspace(0, prior_v.max().value, nv)\n",
    "cosirange = np.linspace(0, 1, nv)\n",
    "\n",
    "pdf_lv = kde.KDE1D(prior_v.value, lower=0 , upper=50)\n",
    "pdf_lu = kde.KDE1D(prior_vsini.value, lower=0 , upper=50)\n",
    "pdf_Pv = kde.KDE1D(vrange, lower=0 , upper=50)\n",
    "pdf_Pcos = kde.KDE1D(cosirange, lower=0 , upper=90)\n",
    "\n",
    "\n",
    "\n",
    "\n",
    "angles, pcosi, curve_pcosi = planet_inclination(pdf_lu, pdf_lv, pdf_Pv, pdf_Pcos,nv=nv)\n",
    "\n",
    "ip_pcosi = np.arccos(curve_pcosi)\n",
    "#ip_pcosi = np.concatenate((ip_pcosi, np.pi-ip_pcosi))\n",
    "# PDF of ip\n",
    "#eq_ip  = pcosi*np.sin(angles) \n",
    "#int_ip  = np.trapz(eq_ip, angles) # normalization factor\n",
    "#eq_ip /= int_ip\n",
    "\n",
    "\n",
    "sample = (prior_vsini < prior_v)\n",
    "nsample = np.sum(sample)\n",
    "print(f\"Size initial sample = {len(prior_v)}\")\n",
    "print(f\"Size new sample = {nsample} (vsini < v < vb)\")\n",
    "sini = prior_vsini.value/prior_v.value\n",
    "ip = np.arcsin(sini[sample])\n",
    "ip = np.concatenate((ip, np.pi-ip))\n",
    "nsample *= 2\n",
    "\n",
    "pdf_ip = kde.KDE1D(ip, lower=0., upper=2*np.pi, method=kde_methods.cyclic) # PDF of io\n",
    "\n",
    "\n",
    "\n",
    "##########################################################################################\n",
    "# THE FIGURE io & ip\n",
    "##########################################################################################\n",
    "plt.figure(figsize=(8,3))\n",
    "##############################\n",
    "\n",
    "# pdf of the planet's inclination\n",
    "complete_ip = np.concatenate((curve_pcosi[::-1], curve_pcosi))\n",
    "complete_angles = np.linspace(0, 180, len(complete_ip))\n",
    "plt.plot(complete_angles,complete_ip *280, label=r'$i_p$', color='c')\n",
    "plt.fill_between(complete_angles,0,complete_ip *280, color='c', alpha=0.6)\n",
    "\n",
    "\n",
    "# pdf of the orbit's inclination \n",
    "plt.plot(angles*180/np.pi, pdf_io(angles*180/np.pi), label=r'$i_o$', color='m')\n",
    "plt.fill_between(angles*180/np.pi,0, pdf_io(angles*180/np.pi), color='m', alpha=0.6)\n",
    "\n",
    "\n",
    "# adjusting the plot \n",
    "plt.ylabel('PDF',fontsize=14)\n",
    "plt.xlabel(r'Degrees',fontsize=14)\n",
    "#plt.tick_params(direction='in')\n",
    "plt.xlim(0,180)\n",
    "plt.ylim(0,0.4)\n",
    "plt.yticks([], [])\n",
    "\n",
    "plt.legend(frameon=False,fontsize=14, loc=2)\n",
    "plt.tight_layout()\n",
    "plt.savefig('inc_op.pdf')\n",
    "plt.show()\n"
   ]
  },
  {
   "cell_type": "code",
   "execution_count": 65,
   "id": "7c4f8a73",
   "metadata": {},
   "outputs": [
    {
     "data": {
      "text/plain": [
       "[<matplotlib.lines.Line2D at 0x7f9de9e26490>]"
      ]
     },
     "execution_count": 65,
     "metadata": {},
     "output_type": "execute_result"
    },
    {
     "data": {
      "image/png": "[encoded data removed]",
      "text/plain": [
       "<Figure size 432x288 with 1 Axes>"
      ]
     },
     "metadata": {
      "needs_background": "light"
     },
     "output_type": "display_data"
    }
   ],
   "source": [
    "plt.plot(angles*180/np.pi,pcosi)\n",
    "\n",
    "ip_pcosi = np.arccos(curve_pcosi)\n",
    "plt.plot(angles*180/np.pi,curve_pcosi)\n",
    "#plt.plot(ip_pcosi)\n",
    "\n",
    "#np.arccos(pcosi)"
   ]
  },
  {
   "cell_type": "code",
   "execution_count": 66,
   "id": "b210caf8",
   "metadata": {},
   "outputs": [
    {
     "data": {
      "text/plain": [
       "[<matplotlib.lines.Line2D at 0x7f9db9df2d60>]"
      ]
     },
     "execution_count": 66,
     "metadata": {},
     "output_type": "execute_result"
    },
    {
     "data": {
      "image/png": "[encoded data removed]",
      "text/plain": [
       "<Figure size 432x288 with 1 Axes>"
      ]
     },
     "metadata": {
      "needs_background": "light"
     },
     "output_type": "display_data"
    }
   ],
   "source": [
    "#ip_pcosi+ip_pcosi\n",
    "curve_pcosi_complete = np.concatenate((np.abs(-pcosi),pcosi))\n",
    "#plt.plot(ip_pcosi)\n",
    "plt.plot(curve_pcosi)\n",
    "plt.plot(-curve_pcosi+curve_pcosi)\n",
    "plt.plot(curve_pcosi_complete)"
   ]
  },
  {
   "cell_type": "code",
   "execution_count": 83,
   "id": "b83b52d0",
   "metadata": {},
   "outputs": [
    {
     "data": {
      "image/png": "[encoded data removed]",
      "text/plain": [
       "<Figure size 360x144 with 1 Axes>"
      ]
     },
     "metadata": {
      "needs_background": "light"
     },
     "output_type": "display_data"
    }
   ],
   "source": [
    "###############\n",
    "proj_ob = np.abs(pdf_io(angles*180/np.pi)-pdf_ip(angles))\n",
    "\n",
    "\n",
    "plt.figure(figsize=(5,2))\n",
    "\n",
    "\n",
    "plt.plot(angles*180/np.pi, proj_ob, label=r'$i_o$', color='m')\n",
    "\n",
    "plt.legend(frameon=False,fontsize=12, loc=2)\n",
    "plt.ylabel('PDF',fontsize=12)\n",
    "plt.xlabel(r'Degrees',fontsize=12)\n",
    "#plt.tick_params(direction='in')\n",
    "plt.xlim(0,180)\n",
    "#plt.ylim(-0.01,0.13)\n",
    "plt.tight_layout()\n",
    "plt.savefig('inc_op.pdf')\n",
    "plt.show()\n",
    "\n"
   ]
  },
  {
   "cell_type": "code",
   "execution_count": 26,
   "id": "a4e6000f",
   "metadata": {},
   "outputs": [
    {
     "ename": "NameError",
     "evalue": "name 'pl' is not defined",
     "output_type": "error",
     "traceback": [
      "\u001b[0;31m---------------------------------------------------------------------------\u001b[0m",
      "\u001b[0;31mNameError\u001b[0m                                 Traceback (most recent call last)",
      "Input \u001b[0;32mIn [26]\u001b[0m, in \u001b[0;36m<cell line: 27>\u001b[0;34m()\u001b[0m\n\u001b[1;32m     23\u001b[0m plt\u001b[38;5;241m.\u001b[39mfigure(figsize\u001b[38;5;241m=\u001b[39m(\u001b[38;5;241m5\u001b[39m,\u001b[38;5;241m2\u001b[39m))\n\u001b[1;32m     26\u001b[0m \u001b[38;5;66;03m####\u001b[39;00m\n\u001b[0;32m---> 27\u001b[0m plt\u001b[38;5;241m.\u001b[39mplot(l\u001b[38;5;241m/\u001b[39mdr, \u001b[43mpl\u001b[49m\u001b[38;5;241m*\u001b[39mdr\u001b[38;5;241m*\u001b[39m\u001b[38;5;241m4\u001b[39m, label\u001b[38;5;241m=\u001b[39m\u001b[38;5;124mr\u001b[39m\u001b[38;5;124m\"\u001b[39m\u001b[38;5;124m$|i_\u001b[39m\u001b[38;5;124m{\u001b[39m\u001b[38;5;124m\\\u001b[39m\u001b[38;5;124mrm p} - i_\u001b[39m\u001b[38;5;124m{\u001b[39m\u001b[38;5;124m\\\u001b[39m\u001b[38;5;124mrm o}|$\u001b[39m\u001b[38;5;124m\"\u001b[39m, color\u001b[38;5;241m=\u001b[39m\u001b[38;5;124m'\u001b[39m\u001b[38;5;124mc\u001b[39m\u001b[38;5;124m'\u001b[39m)\n\u001b[1;32m     28\u001b[0m \u001b[38;5;66;03m#plt.plot(l/dr,pio(l/dr)*0.1, label=\"inc orit\")\u001b[39;00m\n\u001b[1;32m     29\u001b[0m \n\u001b[1;32m     30\u001b[0m \u001b[38;5;66;03m#plt.hist(phi_op/conv, bins=100, density=True,range=(0,180), label=r'$\\Psi_{op}$', color='m',histtype='step')\u001b[39;00m\n\u001b[1;32m     31\u001b[0m ohi_op_den \u001b[38;5;241m=\u001b[39m kde\u001b[38;5;241m.\u001b[39mKDE1D(phi_op, lower\u001b[38;5;241m=\u001b[39m\u001b[38;5;241m0.\u001b[39m, upper\u001b[38;5;241m=\u001b[39mnp\u001b[38;5;241m.\u001b[39mpi, method\u001b[38;5;241m=\u001b[39mkde_methods\u001b[38;5;241m.\u001b[39mcyclic) \u001b[38;5;66;03m# PDF of io\u001b[39;00m\n",
      "\u001b[0;31mNameError\u001b[0m: name 'pl' is not defined"
     ]
    },
    {
     "data": {
      "text/plain": [
       "<Figure size 360x144 with 0 Axes>"
      ]
     },
     "metadata": {},
     "output_type": "display_data"
    }
   ],
   "source": [
    "\n",
    "def phi_op_dist(inc_pl, inc_orbit, Omega_pl, Omega_orb):\n",
    "    arg_1 = np.cos(inc_pl)*np.cos(inc_orbit) \n",
    "    arg_2 = np.sin(inc_pl)*np.sin(inc_orbit)\n",
    "    \n",
    "    dist_1 = arg_2*np.cos(Omega_orb-Omega_pl)\n",
    "    \n",
    "    phi_op = np.arccos(arg_1 + dist_1)\n",
    "    return phi_op\n",
    "\n",
    "\n",
    "conv = np.pi/180\n",
    "\n",
    "l = np.linspace(0, np.pi, 200)\n",
    "inc_orbit = 90*conv #pio(l) # ±12\n",
    "Omega_orb = 38 #218+-10 ± 180\n",
    "Omega_pl_dist = np.random.uniform(low=0.0, high=180, size=100000)\n",
    "inc_planet = pdf_ip(angles)\n",
    "phi_op = phi_op_dist(inc_planet[0]*conv, inc_orbit, Omega_pl_dist*conv, Omega_orb*conv)\n",
    "\n",
    "\n",
    "\n",
    "# plot projected obliquity\n",
    "plt.figure(figsize=(5,2))\n",
    "\n",
    "\n",
    "####\n",
    "plt.plot(l/dr, pl*dr*4, label=r\"$|i_{\\rm p} - i_{\\rm o}|$\", color='c')\n",
    "#plt.plot(l/dr,pio(l/dr)*0.1, label=\"inc orit\")\n",
    "\n",
    "#plt.hist(phi_op/conv, bins=100, density=True,range=(0,180), label=r'$\\Psi_{op}$', color='m',histtype='step')\n",
    "ohi_op_den = kde.KDE1D(phi_op, lower=0., upper=np.pi, method=kde_methods.cyclic) # PDF of io\n",
    "#plt.plot(l/dr,ohi_op_den(l)*0.1, color='m', label=r'$\\Psi_{op}$')\n",
    "\n",
    "\n",
    "\n",
    "plt.xlim(xmin=0)\n",
    "plt.ylim(ymin=0)\n",
    "\n",
    "plt.ylabel(\"PDF\",fontsize=12)\n",
    "plt.xlabel(r'Degrees',fontsize=12)\n",
    "plt.tick_params(direction='in')\n",
    "plt.xlim(0,180)\n",
    "plt.ylim(-0.01,0.12)\n",
    "plt.legend(frameon=False,fontsize=12,loc=9)\n",
    "plt.tight_layout()\n",
    "plt.savefig('obl_op.pdf')\n",
    "plt.show()"
   ]
  },
  {
   "cell_type": "code",
   "execution_count": null,
   "id": "00854b20",
   "metadata": {},
   "outputs": [],
   "source": []
  },
  {
   "cell_type": "code",
   "execution_count": 28,
   "id": "20eb5df7",
   "metadata": {},
   "outputs": [
    {
     "data": {
      "text/plain": [
       "(array([3893.67479257,  833.20868221, 3244.51617355, 3935.56855206,\n",
       "        3925.20448688, 3658.84880971, 1101.87306594, 2877.1782333 ,\n",
       "         469.78030386, 3071.72111909, 3669.07300724, 3475.2085567 ,\n",
       "         887.33170695, 1888.39488321, 1067.92010234, 3933.52264664,\n",
       "        1232.13486838, 3288.82446171,  428.56300114, 3873.912676  ,\n",
       "        3596.94784272, 3110.982676  , 3500.26849127, 3290.53345632,\n",
       "        3700.90148035,  700.18647491, 3924.53587084, 3716.57983344,\n",
       "        3933.21863447, 3641.92572396, 2805.10969269, 3927.28319313,\n",
       "         710.97160957, 2472.89702082, 1899.70692421, 3587.02772127,\n",
       "        3905.12574973, 3648.19177246, 2205.20047368, 3020.95032476,\n",
       "          37.09280681, 3559.64242751, 3952.78241834, 3920.31673536,\n",
       "        1877.84609787,  742.40431241, 3583.44969344, 2256.57733091,\n",
       "        2799.96274224, 3688.10363458, 3940.98279565, 3453.97632296,\n",
       "        3725.94730724, 3950.33839547, 3949.77842802, 3621.31462398,\n",
       "        2192.28023646, 3518.95699259, 3776.69744591, 3165.37367826,\n",
       "        3453.01518925, 3295.18142048, 3512.12412678, 1451.33573307,\n",
       "        1245.25998591, 2633.79628986, 1176.49869072, 2162.41345564,\n",
       "        3353.3663621 ,  609.3774629 , 3401.52575011, 3827.71776795,\n",
       "        3636.18332984, 3866.4504582 , 3931.76996936, 3950.09783143,\n",
       "        3554.23778313, 2335.92939944, 3944.19057218,  217.84903409,\n",
       "        3898.61899869, 3368.56067366, 1305.44312418, 1481.17335305,\n",
       "        1952.40043005, 3245.81797099, 3953.32277916, 3261.66673283,\n",
       "        2944.57193263, 2605.03397577, 3170.97554147, 3953.14678363,\n",
       "        3917.42846104, 3952.02634727,  636.34568955, 3812.54046809,\n",
       "        2247.37935332, 3898.27499562, 3555.42791666,  731.58409971,\n",
       "        3790.48571835, 3394.59153984, 2407.87920869, 3911.47655873,\n",
       "        2660.79011519, 3099.01971161, 2596.20348578, 3777.88319727,\n",
       "        3023.9381718 , 2683.38641111, 3942.47511712, 3722.76561438,\n",
       "        3576.02025209, 3669.68380704, 1710.78560016, 3542.54047022,\n",
       "         363.18619144, 2980.70794931, 3798.02601627, 2829.89433216,\n",
       "        2522.27300228, 2875.92692804,  769.91235093, 2316.04321452,\n",
       "         940.86858001, 1920.05018437, 3547.31493547, 3561.06957274,\n",
       "        3557.84052198, 1779.06468088, 2977.26757688, 3932.06989939,\n",
       "        3247.37117454, 3788.93994861, 3823.07343619, 1828.50672604,\n",
       "        3949.00108832, 3884.12685907, 3839.41338544, 3660.17189634,\n",
       "        3621.76727391, 3019.34591159,  411.87314078, 3749.39349871,\n",
       "        1798.04711973, 3070.04455286, 3707.67659375, 3307.91437449,\n",
       "        3667.8791742 , 1233.77811322, 3646.2234763 , 1650.45246498,\n",
       "        3809.33137835, 3486.55926484, 3496.22111674, 1056.73045947,\n",
       "        3926.82619234, 3675.63990967, 3576.47174495, 3620.98123622,\n",
       "        3441.37983565, 2897.38129528, 3512.70549849, 2952.05497197,\n",
       "        3502.39644916,  347.23946304, 1127.00881503, 1299.1595063 ,\n",
       "         565.28193319, 3212.72601031,  554.77205798, 3550.64714304,\n",
       "        3352.68355644, 3846.39795256,  683.20028914, 3384.05078911,\n",
       "        2593.77249747, 3420.29392564,  722.54170723, 2766.11625207,\n",
       "        3544.68222642, 1296.15010219, 2103.49523077, 3637.90046618,\n",
       "        3877.42665616, 3668.50676677, 3818.87910784, 3713.15685273,\n",
       "        3713.74976851, 3838.04766588, 3468.23329934, 3611.80898292,\n",
       "        3936.42961175, 3885.33557497, 3625.7609818 ,  604.60267258,\n",
       "        3952.91793388, 3693.16663868, 3892.04720795, 2771.64199067,\n",
       "        2728.91767121, 1311.58058621, 2452.75551213, 3638.51341465,\n",
       "        3528.30573936, 3649.08249534, 1956.48990321, 3922.50471317,\n",
       "        3001.85740584, 2967.45338732,  616.76336654, 2699.87830043,\n",
       "        3644.92615778, 2718.50061358, 1799.35843833, 3897.26448643,\n",
       "        3460.84962908, 3823.69661976,  189.53774431, 3057.89098265,\n",
       "        1027.61576794, 3942.12494232, 2906.39334077, 3835.92442879,\n",
       "        3797.54860291, 2807.64815544, 3946.83970651, 1889.98919583,\n",
       "        3672.38816436, 2844.1213081 , 3662.99594978, 3827.19595846,\n",
       "        3690.60318331, 3495.08237931, 3827.71290507, 3939.60594966,\n",
       "          51.97338668, 3895.88846002,   55.2789832 , 3059.47991187,\n",
       "        3733.84797971, 3927.92509403, 3506.68804029, 3953.2965171 ,\n",
       "         995.8521845 , 2725.90248465, 1368.24459086, 2851.31990748,\n",
       "        3581.17277889, 2220.9292451 , 3840.71614149, 3358.96974522,\n",
       "        3284.12047759, 3385.87175417, 3529.95675915, 1700.06207219,\n",
       "         786.95771835, 2984.36367409, 1429.36451421, 3907.44722949,\n",
       "         404.26344466, 3589.95509843, 3780.27334025, 2246.56422466,\n",
       "        3702.822998  ,  564.75657592, 2099.35288334, 2794.46675823,\n",
       "        3290.24130279, 3509.35277677, 2744.49124682, 3653.70844331,\n",
       "        3373.74905409, 3621.36481457, 2288.47767061, 3205.03999439,\n",
       "        2408.88909768, 3909.8028927 , 3467.10859702, 2424.76432137,\n",
       "        3936.36659719, 1013.61155512,  155.61811874, 3861.98667869,\n",
       "        3694.04838708, 1439.61759941, 3831.27010221,  132.07603637,\n",
       "        3684.65541979, 3585.6351118 , 3377.21085093, 3755.55912272,\n",
       "        3105.56778172, 3860.65006292, 2829.692187  , 2864.21000696,\n",
       "        1992.82354383, 2074.71433752, 3758.29430498, 3103.85733338,\n",
       "        3476.58934481, 3767.78198269, 1840.69923988, 3777.32817202,\n",
       "        2811.15890192, 2564.10041808, 2860.46523296, 3896.50075544,\n",
       "         534.89230221, 3650.00670263, 3815.95665846,  234.28541892,\n",
       "        3948.91817713, 1648.59772661, 3953.31643516, 2216.47272862,\n",
       "        3222.3064538 , 3951.79579632, 2053.00433326, 1191.91656312,\n",
       "        3891.08060767, 1789.12052632, 2813.96823678, 3385.68493809,\n",
       "        2539.88253832, 1816.40680545, 3280.57515679, 3951.04157737,\n",
       "        3952.60877918,  793.21314901, 1847.96717461, 3585.44338541,\n",
       "         689.84656283, 1422.4000536 , 3638.22495703, 3362.00607316,\n",
       "        3792.35365076, 1195.4137664 , 3592.89330636, 3799.79100909,\n",
       "        3633.33915978, 3343.24666103, 3838.23352823, 2588.80835924,\n",
       "        1534.96199345, 2663.47067254, 2175.70002857, 3460.22023152,\n",
       "        2525.4201484 , 3690.89167268, 3693.4166484 , 3260.8216053 ,\n",
       "        3032.65286372, 3858.54241128, 3570.02401212, 3880.42387689,\n",
       "        3951.9785526 ,  146.77449897, 2890.5294142 , 3846.74491768,\n",
       "        3358.97822709, 3685.38946134, 3517.32761016, 1495.77068969,\n",
       "         704.60160027, 3461.01592665, 2361.71869109, 2664.18496464,\n",
       "        2078.28058363, 3723.17443955, 1177.69669181, 3809.97717522,\n",
       "        3060.95312817, 3806.11282616, 3551.30131   , 3508.49041723,\n",
       "        3724.03056881, 3623.78436655, 3031.10110454, 3905.68347949,\n",
       "        3074.358632  , 3148.76031396, 3953.28452384, 3108.77596869,\n",
       "        3699.39408298, 3651.2342522 , 2431.49105076, 3617.68643352,\n",
       "         371.86949469, 3650.56992169, 3951.63959886, 3613.09141778,\n",
       "        3928.33534552, 3832.50029747, 3909.93236926, 2175.96575914,\n",
       "        3383.78776906, 3411.56748373, 3603.54632277, 3850.72147844,\n",
       "        3184.93254829, 3019.186802  , 3617.2478862 , 3450.87027961,\n",
       "        2321.00345389, 3939.1678667 , 1786.69513095, 3334.50342838,\n",
       "        2755.32611452, 3035.66747143, 2569.31158677, 1226.01005923,\n",
       "        2996.46677563, 1485.92946135, 3418.70866893, 2574.30023262,\n",
       "        1523.35359387, 3773.42425905, 2382.26044719, 3115.72548951,\n",
       "        3672.57909343, 3678.41091621, 2019.9703416 , 3501.86497986,\n",
       "        2670.78820942, 3040.25116901, 1754.10396577, 3697.78456323,\n",
       "        3882.7944463 , 3864.39608649, 3706.46506245, 3625.85768719,\n",
       "        3876.71679677, 1531.60452748, 2982.8766688 , 3729.16728472,\n",
       "        2773.84496582, 1300.38454556, 3791.60174058, 3665.84449507,\n",
       "        3852.77053483,  285.88387096, 3665.32205716, 1862.75319801,\n",
       "        1345.57134355, 3906.28771209, 3401.89229835, 3699.34026467,\n",
       "        3506.4088461 , 3940.9798433 , 3924.10158975, 3377.38598971,\n",
       "        3541.56962979, 3581.71911632, 3562.37799337, 2831.01527448,\n",
       "        3062.36845238, 3858.48777832, 1001.85409797, 2338.44451039,\n",
       "        3703.3282864 , 3381.14637244, 2425.75580497, 1429.41818461,\n",
       "        3440.17693242, 3134.70917991, 3383.23447842, 2173.90944258,\n",
       "        3848.12765491, 3193.01071922, 3720.87718051, 2759.9945418 ,\n",
       "         328.26584004, 3951.63715838, 2786.93472857, 3507.60560016,\n",
       "        3950.16121919, 3365.80681286,  625.29417782, 3902.1188751 ,\n",
       "        2638.98594366, 1875.84852946, 3471.02564696, 1177.92416155,\n",
       "        3594.91873498, 3838.67901669, 1057.63986335, 3015.71203205,\n",
       "        1715.70946372, 3887.3871458 , 3749.22812099, 3611.54433205,\n",
       "        3944.48140311, 1911.69232414, 3174.439365  , 3407.43206121,\n",
       "        3641.28341511,  839.29879532, 3946.83236638, 3908.77713264]),\n",
       " array([119.14364925, 120.43316786, 118.02068079, 118.93661011,\n",
       "        119.10399968, 118.5316175 , 120.27566868, 119.62590118,\n",
       "        120.74900343, 119.55233099, 118.55033386, 119.38761858,\n",
       "        117.04810469, 119.9639216 , 120.2931784 , 118.93197287,\n",
       "        117.25614317, 118.04465967, 120.79561017, 118.83531678,\n",
       "        118.39831184, 117.9582183 , 118.21710239, 118.0456292 ,\n",
       "        119.27925294, 116.90061972, 119.10503144, 118.62747708,\n",
       "        119.09048033, 118.4985576 , 119.65234174, 118.91894651,\n",
       "        116.9099544 , 117.73374875, 117.54223892, 118.37505358,\n",
       "        119.13089219, 118.51111559, 117.64707184, 117.9214736 ,\n",
       "        122.04094629, 118.3146316 , 119.00133076, 119.11127507,\n",
       "        119.96748781, 120.49867544, 118.36675779, 119.84153623,\n",
       "        119.65421347, 118.58297224, 119.07433831, 118.16481353,\n",
       "        118.64121642, 119.04422257, 119.04686595, 119.32017008,\n",
       "        117.64281072, 118.24315644, 118.71041313, 119.51574526,\n",
       "        118.16386779, 118.04828465, 118.23321475, 117.36223562,\n",
       "        120.20733672, 117.78576132, 117.22658589, 119.87271356,\n",
       "        118.08420293, 116.81804638, 119.41939874, 119.20066576,\n",
       "        118.48671182, 118.82529991, 118.9281598 , 119.04538687,\n",
       "        118.30380275, 117.68967253, 119.06612028, 121.08880524,\n",
       "        118.87042759, 118.09456847, 120.18091481, 117.37558539,\n",
       "        117.56106319, 119.48365996, 119.01479791, 119.47725955,\n",
       "        117.89246824, 119.72354676, 117.98481478, 119.02168921,\n",
       "        119.11531488, 118.99411341, 116.84329459, 118.75620575,\n",
       "        119.84458715, 118.86991031, 118.30615137, 116.92750752,\n",
       "        118.72819273, 118.11355227, 117.71285486, 118.89062796,\n",
       "        117.79460007, 119.54174752, 117.77352357, 119.23445196,\n",
       "        119.5707004 , 117.8020382 , 118.95434114, 118.63659275,\n",
       "        118.34983066, 118.55142421, 117.47124634, 119.35744024,\n",
       "        120.87559717, 119.58715087, 119.22140039, 119.64329778,\n",
       "        119.75214523, 119.62636399, 120.4780326 , 117.68324092,\n",
       "        120.364363  , 119.95325698, 118.29054777, 119.34889237,\n",
       "        118.31097492, 117.49759795, 117.90468307, 118.9288028 ,\n",
       "        118.0221643 , 119.22737566, 119.20404793, 117.51617133,\n",
       "        119.05020198, 119.15336639, 118.79022613, 119.30070405,\n",
       "        119.31994806, 119.57245548, 116.6132917 , 119.25184018,\n",
       "        117.50477717, 119.55297886, 119.2755594 , 119.45841746,\n",
       "        118.54819393, 117.25699793, 119.30779128, 117.44722265,\n",
       "        119.21374053, 118.20004218, 118.21190211, 120.29907704,\n",
       "        119.10144337, 118.56190125, 118.35084534, 118.45381772,\n",
       "        118.15277354, 117.87529063, 119.37097007, 117.89523956,\n",
       "        118.21989528, 116.53429163, 117.19921379, 120.18362006,\n",
       "        116.77548513, 118.00465634, 116.76510697, 118.29684115,\n",
       "        118.08374814, 118.79915637, 120.54565772, 118.10566207,\n",
       "        117.77273466, 118.13414699, 116.91985381, 117.829658  ,\n",
       "        118.2856888 , 117.28872233, 117.61319391, 118.49028801,\n",
       "        119.15978963, 118.54932033, 119.2070544 , 118.62235693,\n",
       "        118.62324784, 119.19292565, 118.17942436, 118.43300558,\n",
       "        119.08428472, 118.85110343, 118.46439188, 116.81351399,\n",
       "        119.02545358, 118.59122938, 119.14535815, 119.66447346,\n",
       "        119.67982788, 120.1782839 , 117.7272768 , 118.49155755,\n",
       "        118.25762753, 118.51286992, 117.56250875, 119.10809215,\n",
       "        117.91406335, 119.59216274, 120.60287502, 119.69018095,\n",
       "        119.30844451, 119.68354941, 117.50527086, 118.86839669,\n",
       "        118.17171702, 119.20359742, 121.13915661, 117.9361621 ,\n",
       "        120.31473932, 119.07155531, 119.61505824, 118.7857867 ,\n",
       "        118.73720553, 119.6514178 , 119.05811266, 117.5387255 ,\n",
       "        118.55621583, 119.63808317, 118.53931719, 118.77472332,\n",
       "        118.58706929, 119.37884041, 119.20066934, 118.94650155,\n",
       "        115.63315813, 118.86634922, 121.59722727, 119.55705571,\n",
       "        119.26089241, 119.09966496, 118.22565674, 119.01145159,\n",
       "        117.12085731, 119.68090595, 117.32377116, 117.8589616 ,\n",
       "        118.36152199, 119.85335219, 118.79188709, 118.08797005,\n",
       "        118.04200961, 118.10700439, 118.26029462, 120.02884478,\n",
       "        120.46559845, 119.58576592, 120.12977301, 119.12812396,\n",
       "        116.60446073, 119.33531383, 119.23293935, 117.66064373,\n",
       "        118.60654216, 120.65129753, 119.89356895, 119.65620971,\n",
       "        118.0454632 , 118.22932424, 117.82237129, 119.30400295,\n",
       "        118.09822169, 119.32014547, 117.67430142, 118.00090809,\n",
       "        119.79066461, 118.88788851, 118.17822985, 119.78531132,\n",
       "        118.9384806 , 120.32244129, 116.13717232, 119.1735983 ,\n",
       "        119.28294978, 117.35692803, 118.7798811 , 116.04440776,\n",
       "        118.57725208, 119.33736571, 119.42966175, 119.2481702 ,\n",
       "        117.95591125, 119.17473776, 117.85142247, 119.63069114,\n",
       "        117.57526068, 119.90172504, 118.68614261, 119.53986517,\n",
       "        118.18854501, 119.24074736, 119.98010105, 118.71123291,\n",
       "        119.65013909, 117.76312561, 117.86217294, 118.86725838,\n",
       "        120.68066455, 118.5146822 , 118.76052187, 116.35454335,\n",
       "        118.97666616, 117.44647247, 119.01580904, 119.85482794,\n",
       "        118.0093944 , 119.03580177, 119.90891898, 117.23490007,\n",
       "        118.85930973, 119.99777681, 117.84598721, 119.42609613,\n",
       "        119.74609736, 117.51166325, 118.04002991, 118.98740519,\n",
       "        119.02906739, 116.97772995, 119.97762609, 118.37137107,\n",
       "        120.54020231, 117.34906158, 118.49096056, 119.43603088,\n",
       "        118.73058156, 117.2367725 , 118.38877908, 119.22022162,\n",
       "        118.4807248 , 118.07755325, 118.78872348, 117.77112452,\n",
       "        120.0889585 , 117.79548046, 119.86831961, 119.39417588,\n",
       "        119.75106577, 119.28463989, 118.59163289, 119.47760155,\n",
       "        117.92607458, 119.17651839, 118.33656051, 119.15695272,\n",
       "        119.0344898 , 116.103702  , 117.87283615, 118.79960176,\n",
       "        118.0879758 , 118.57847651, 118.24073909, 120.10385268,\n",
       "        116.9044535 , 118.1718872 , 117.69799527, 119.70281649,\n",
       "        119.90054403, 119.26695502, 117.22723542, 118.75296531,\n",
       "        119.55648778, 118.74807525, 118.29809553, 118.22812962,\n",
       "        118.63843611, 118.4600436 , 117.9254618 , 118.88129843,\n",
       "        119.55131128, 117.9747295 , 119.0108671 , 117.95727642,\n",
       "        119.28006941, 118.51707678, 119.7830394 , 118.44641516,\n",
       "        116.56557235, 118.51578264, 119.03686089, 119.32418565,\n",
       "        118.92104433, 118.78144044, 118.88809909, 119.86823173,\n",
       "        118.10546887, 118.12692003, 118.41380765, 119.18296361,\n",
       "        119.50800305, 117.92078423, 118.4454233 , 118.16177395,\n",
       "        117.68484644, 118.94537159, 119.99861316, 118.07195772,\n",
       "        119.67035453, 117.92726741, 119.73594621, 120.21604315,\n",
       "        119.58117261, 117.3776919 , 119.41208405, 117.76642477,\n",
       "        120.09334127, 118.70614737, 117.70461271, 117.96025068,\n",
       "        118.55655193, 118.56668256, 119.91988345, 118.21919385,\n",
       "        117.79788646, 119.56445124, 120.0099015 , 118.59862092,\n",
       "        119.1546676 , 118.82257514, 118.61217979, 118.46460371,\n",
       "        118.83913595, 117.3976317 , 117.90680738, 118.6458532 ,\n",
       "        119.66367773, 120.18309172, 118.72962045, 118.54451967,\n",
       "        118.80736927, 120.98160624, 118.54357067, 119.97260191,\n",
       "        117.31292498, 118.88225237, 119.41924325, 118.60108231,\n",
       "        118.22527654, 119.07434533, 119.10569497, 118.10081937,\n",
       "        119.3578849 , 118.36277483, 118.32026999, 117.85188153,\n",
       "        117.93797664, 119.17656429, 120.3289955 , 119.81428979,\n",
       "        118.60732863, 118.10353831, 119.78497658, 117.35227792,\n",
       "        118.15166207, 119.52781148, 118.10506304, 119.86891182,\n",
       "        118.80137866, 117.99513154, 118.63382797, 119.668674  ,\n",
       "        120.92177534, 119.03687703, 117.83672532, 118.22691162,\n",
       "        119.04508453, 118.09265375, 120.59524587, 119.13437874,\n",
       "        119.71167904, 117.53358858, 119.38945383, 117.22735869,\n",
       "        119.33294649, 118.78929067, 117.15891636, 119.57384301,\n",
       "        120.02332883, 119.15012865, 118.67388632, 118.43239625,\n",
       "        119.06530582, 117.54655381, 119.51216121, 118.12358292,\n",
       "        118.4972487 , 117.01310989, 119.05813698, 118.88622797]))"
      ]
     },
     "execution_count": 28,
     "metadata": {},
     "output_type": "execute_result"
    }
   ],
   "source": [
    "lo(io)*10000, io"
   ]
  },
  {
   "cell_type": "code",
   "execution_count": 48,
   "id": "157b2fa2",
   "metadata": {},
   "outputs": [
    {
     "ename": "NameError",
     "evalue": "name 'inc_planet' is not defined",
     "output_type": "error",
     "traceback": [
      "\u001b[0;31m---------------------------------------------------------------------------\u001b[0m",
      "\u001b[0;31mNameError\u001b[0m                                 Traceback (most recent call last)",
      "\u001b[0;32m/var/folders/j1/_w3k60_x5sngdtvl8smh_p180000gn/T/ipykernel_72208/1564083695.py\u001b[0m in \u001b[0;36m<module>\u001b[0;34m\u001b[0m\n\u001b[1;32m     21\u001b[0m \u001b[0mOmega_orb\u001b[0m \u001b[0;34m=\u001b[0m \u001b[0;34m-\u001b[0m\u001b[0;36m5\u001b[0m \u001b[0;31m#± 13 ± 180\u001b[0m\u001b[0;34m\u001b[0m\u001b[0;34m\u001b[0m\u001b[0m\n\u001b[1;32m     22\u001b[0m \u001b[0mOmega_pl_dist\u001b[0m \u001b[0;34m=\u001b[0m \u001b[0mnp\u001b[0m\u001b[0;34m.\u001b[0m\u001b[0mrandom\u001b[0m\u001b[0;34m.\u001b[0m\u001b[0muniform\u001b[0m\u001b[0;34m(\u001b[0m\u001b[0mlow\u001b[0m\u001b[0;34m=\u001b[0m\u001b[0;36m0.0\u001b[0m\u001b[0;34m,\u001b[0m \u001b[0mhigh\u001b[0m\u001b[0;34m=\u001b[0m\u001b[0;36m180\u001b[0m\u001b[0;34m,\u001b[0m \u001b[0msize\u001b[0m\u001b[0;34m=\u001b[0m\u001b[0;36m100000\u001b[0m\u001b[0;34m)\u001b[0m\u001b[0;34m\u001b[0m\u001b[0;34m\u001b[0m\u001b[0m\n\u001b[0;32m---> 23\u001b[0;31m \u001b[0mphi_op\u001b[0m \u001b[0;34m=\u001b[0m \u001b[0mphi_op_dist\u001b[0m\u001b[0;34m(\u001b[0m\u001b[0minc_planet\u001b[0m\u001b[0;34m[\u001b[0m\u001b[0;36m0\u001b[0m\u001b[0;34m]\u001b[0m\u001b[0;34m*\u001b[0m\u001b[0mconv\u001b[0m\u001b[0;34m,\u001b[0m \u001b[0minc_orbit\u001b[0m\u001b[0;34m,\u001b[0m \u001b[0mOmega_pl_dist\u001b[0m\u001b[0;34m*\u001b[0m\u001b[0mconv\u001b[0m\u001b[0;34m,\u001b[0m \u001b[0mOmega_orb\u001b[0m\u001b[0;34m*\u001b[0m\u001b[0mconv\u001b[0m\u001b[0;34m)\u001b[0m\u001b[0;34m\u001b[0m\u001b[0;34m\u001b[0m\u001b[0m\n\u001b[0m\u001b[1;32m     24\u001b[0m \u001b[0;34m\u001b[0m\u001b[0m\n\u001b[1;32m     25\u001b[0m \u001b[0;34m\u001b[0m\u001b[0m\n",
      "\u001b[0;31mNameError\u001b[0m: name 'inc_planet' is not defined"
     ]
    }
   ],
   "source": [
    "######################## ########################\n",
    "################################################\n",
    "\n",
    "\n",
    "\n",
    "\n",
    "def phi_op_dist(inc_pl, inc_orbit, Omega_pl, Omega_orb):\n",
    "    arg_1 = np.cos(inc_pl)*np.cos(inc_orbit) \n",
    "    arg_2 = np.sin(inc_pl)*np.sin(inc_orbit)\n",
    "    \n",
    "    dist_1 = arg_2*np.cos(Omega_orb-Omega_pl)\n",
    "    \n",
    "    phi_op = np.arccos(arg_1 + dist_1)\n",
    "    return phi_op\n",
    "\n",
    "\n",
    "conv = np.pi/180\n",
    "\n",
    "l = np.linspace(0, np.pi, 200)\n",
    "inc_orbit = 90*conv #pio(l) # ±12\n",
    "Omega_orb = -5 #± 13 ± 180\n",
    "Omega_pl_dist = np.random.uniform(low=0.0, high=180, size=100000)\n",
    "phi_op = phi_op_dist(inc_planet[0]*conv, inc_orbit, Omega_pl_dist*conv, Omega_orb*conv)\n",
    "\n",
    "\n",
    "\n",
    "# plot projected obliquity\n",
    "plt.figure(figsize=(5,2))\n",
    "\n",
    "\n",
    "####\n",
    "plt.plot(l/dr, pl*dr*4, label=r\"$|i_{\\rm p} - i_{\\rm o}|$\", color='c')\n",
    "#plt.plot(l/dr,pio(l/dr)*0.1, label=\"inc orit\")\n",
    "\n",
    "#plt.hist(phi_op/conv, bins=100, density=True,range=(0,180), label=r'$\\Psi_{op}$', color='m',histtype='step')\n",
    "ohi_op_den = kde.KDE1D(phi_op, lower=0., upper=np.pi, method=kde_methods.cyclic) # PDF of io\n",
    "plt.plot(l/dr,ohi_op_den(l)*0.1, color='m', label=r'$\\Psi_{op}$')\n",
    "\n",
    "\n",
    "\n",
    "plt.xlim(xmin=0)\n",
    "plt.ylim(ymin=0)\n",
    "\n",
    "plt.ylabel(\"PDF\",fontsize=12)\n",
    "plt.xlabel(r'Degrees',fontsize=12)\n",
    "plt.tick_params(direction='in')\n",
    "plt.xlim(0,180)\n",
    "plt.ylim(-0.01,0.12)\n",
    "plt.legend(frameon=False,fontsize=12,loc=9)\n",
    "plt.tight_layout()\n",
    "plt.savefig('obl_op.pdf')\n",
    "plt.show()"
   ]
  },
  {
   "cell_type": "code",
   "execution_count": null,
   "id": "424e186c",
   "metadata": {},
   "outputs": [],
   "source": []
  }
 ],
 "metadata": {
  "kernelspec": {
   "display_name": "Python 3.8.13 ('exo_obliquity')",
   "language": "python",
   "name": "python3"
  },
  "language_info": {
   "codemirror_mode": {
    "name": "ipython",
    "version": 3
   },
   "file_extension": ".py",
   "mimetype": "text/x-python",
   "name": "python",
   "nbconvert_exporter": "python",
   "pygments_lexer": "ipython3",
   "version": "3.8.13"
  },
  "vscode": {
   "interpreter": {
    "hash": "f18e0b4c44415d1ab055fd5634197c4d62c0693bdcb18a9baf2fd7dab873d336"
   }
  }
 },
 "nbformat": 4,
 "nbformat_minor": 5
}
